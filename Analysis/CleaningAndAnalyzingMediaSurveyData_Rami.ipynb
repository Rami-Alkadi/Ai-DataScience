{
  "nbformat": 4,
  "nbformat_minor": 0,
  "metadata": {
    "colab": {
      "provenance": [],
      "collapsed_sections": [],
      "authorship_tag": "ABX9TyObgQgik9jVmfuQUWmf1OBX",
      "include_colab_link": true
    },
    "kernelspec": {
      "name": "ir",
      "display_name": "R"
    },
    "language_info": {
      "name": "R"
    }
  },
  "cells": [
    {
      "cell_type": "markdown",
      "metadata": {
        "id": "view-in-github",
        "colab_type": "text"
      },
      "source": [
        "<a href=\"https://colab.research.google.com/github/Rami-Alkadi/Ai-DataScience/blob/main/Analysis/CleaningAndAnalyzingMediaSurveyData_Rami.ipynb\" target=\"_parent\"><img src=\"https://colab.research.google.com/assets/colab-badge.svg\" alt=\"Open In Colab\"/></a>"
      ]
    },
    {
      "cell_type": "markdown",
      "source": [
        "## R - Qualtrics Survey Cleaning\n"
      ],
      "metadata": {
        "id": "R3DKN4YtKtIW"
      }
    },
    {
      "cell_type": "code",
      "execution_count": 257,
      "metadata": {
        "id": "6IoHWSkNHEsh"
      },
      "outputs": [],
      "source": [
        "library(dplyr)\n",
        "library(ggplot2)\n",
        "#install.packages(\"ggthemes\")\n",
        "library(ggthemes)\n",
        "# Install Package to clean Qualtrics data\n",
        "library(excluder)"
      ]
    },
    {
      "cell_type": "markdown",
      "source": [
        "**Inserting Data**"
      ],
      "metadata": {
        "id": "1phzU9t2IRef"
      }
    },
    {
      "cell_type": "code",
      "source": [
        "#Insert data\n",
        "survey<-read.csv(\"/content/Survey-char.csv\",header = TRUE, sep = \",\")\n",
        "head(survey)\n",
        "# Data dimensions\n",
        "nrow(survey)\n",
        "ncol(survey)"
      ],
      "metadata": {
        "colab": {
          "base_uri": "https://localhost:8080/",
          "height": 445
        },
        "id": "j7b-r4iAITGp",
        "outputId": "cd857600-db10-4e3e-f5ab-cc662c4a9367"
      },
      "execution_count": 144,
      "outputs": [
        {
          "output_type": "display_data",
          "data": {
            "text/html": [
              "<table class=\"dataframe\">\n",
              "<caption>A data.frame: 6 × 54</caption>\n",
              "<thead>\n",
              "\t<tr><th></th><th scope=col>StartDate</th><th scope=col>EndDate</th><th scope=col>Status</th><th scope=col>IPAddress</th><th scope=col>Progress</th><th scope=col>Duration..in.seconds.</th><th scope=col>Finished</th><th scope=col>RecordedDate</th><th scope=col>ResponseId</th><th scope=col>RecipientLastName</th><th scope=col>⋯</th><th scope=col>Q17.1</th><th scope=col>Q17.2</th><th scope=col>Q17.3</th><th scope=col>Q17.4</th><th scope=col>Q17.5_1</th><th scope=col>Q17.5_2</th><th scope=col>Q17.5_3</th><th scope=col>Q17.5_4</th><th scope=col>Q17.5_5</th><th scope=col>Q18.1</th></tr>\n",
              "\t<tr><th></th><th scope=col>&lt;chr&gt;</th><th scope=col>&lt;chr&gt;</th><th scope=col>&lt;chr&gt;</th><th scope=col>&lt;chr&gt;</th><th scope=col>&lt;chr&gt;</th><th scope=col>&lt;chr&gt;</th><th scope=col>&lt;chr&gt;</th><th scope=col>&lt;chr&gt;</th><th scope=col>&lt;chr&gt;</th><th scope=col>&lt;chr&gt;</th><th scope=col>⋯</th><th scope=col>&lt;chr&gt;</th><th scope=col>&lt;chr&gt;</th><th scope=col>&lt;chr&gt;</th><th scope=col>&lt;chr&gt;</th><th scope=col>&lt;chr&gt;</th><th scope=col>&lt;chr&gt;</th><th scope=col>&lt;chr&gt;</th><th scope=col>&lt;chr&gt;</th><th scope=col>&lt;chr&gt;</th><th scope=col>&lt;chr&gt;</th></tr>\n",
              "</thead>\n",
              "<tbody>\n",
              "\t<tr><th scope=row>1</th><td>Start Date                                          </td><td>End Date                                          </td><td>Response Type        </td><td>IP Address              </td><td>Progress               </td><td>Duration (in seconds)  </td><td>Finished               </td><td>Recorded Date                                          </td><td>Response ID             </td><td>Recipient Last Name             </td><td>⋯</td><td>I intend to use AI to automate repetitive tasks</td><td>I intend to use AI to assist me with creative tasks</td><td>I intend to use AI in my learning activities</td><td>I intend to stay informed about emerging AI technologies</td><td>How much do you agree with the following statements? - I intend to use AI to automate repetitive tasks in the future</td><td>How much do you agree with the following statements? - I intend to use AI to assist me with creative tasks in the future</td><td>How much do you agree with the following statements? - I intend to use AI in my learning activities in the future</td><td>How much do you agree with the following statements? - I intend to stay informed of emerging AI technologies in the future</td><td>How much do you agree with the following statements? - I intend to work with AI in my future career</td><td>If you would like to take part in the GIVEAWAY of an Amazon gift card or a BUas hoodie, please enter your student number.</td></tr>\n",
              "\t<tr><th scope=row>2</th><td>{\"ImportId\":\"startDate\",\"timeZone\":\"America/Denver\"}</td><td>{\"ImportId\":\"endDate\",\"timeZone\":\"America/Denver\"}</td><td>{\"ImportId\":\"status\"}</td><td>{\"ImportId\":\"ipAddress\"}</td><td>{\"ImportId\":\"progress\"}</td><td>{\"ImportId\":\"duration\"}</td><td>{\"ImportId\":\"finished\"}</td><td>{\"ImportId\":\"recordedDate\",\"timeZone\":\"America/Denver\"}</td><td>{\"ImportId\":\"_recordId\"}</td><td>{\"ImportId\":\"recipientLastName\"}</td><td>⋯</td><td>{\"ImportId\":\"QID33\"}                           </td><td>{\"ImportId\":\"QID36\"}                               </td><td>{\"ImportId\":\"QID34\"}                        </td><td>{\"ImportId\":\"QID35\"}                                    </td><td>{\"ImportId\":\"QID81_1\"}                                                                                              </td><td>{\"ImportId\":\"QID81_2\"}                                                                                                  </td><td>{\"ImportId\":\"QID81_3\"}                                                                                           </td><td>{\"ImportId\":\"QID81_4\"}                                                                                                    </td><td>{\"ImportId\":\"QID81_5\"}                                                                             </td><td>{\"ImportId\":\"QID87_TEXT\"}                                                                                                </td></tr>\n",
              "\t<tr><th scope=row>3</th><td>2022-09-21 02:45:52                                 </td><td>2022-09-21 02:46:02                               </td><td>Survey Preview       </td><td>                        </td><td>100                    </td><td>9                      </td><td>True                   </td><td>2022-09-21 02:46:03                                    </td><td>R_ODzLennzv91wiNH       </td><td>                                </td><td>⋯</td><td>                                               </td><td>                                                   </td><td>                                            </td><td>                                                        </td><td>                                                                                                                    </td><td>                                                                                                                        </td><td>                                                                                                                 </td><td>                                                                                                                          </td><td>                                                                                                   </td><td>                                                                                                                         </td></tr>\n",
              "\t<tr><th scope=row>4</th><td>2022-09-21 09:24:26                                 </td><td>2022-09-21 09:25:16                               </td><td>Survey Preview       </td><td>                        </td><td>100                    </td><td>50                     </td><td>True                   </td><td>2022-09-21 09:25:17                                    </td><td>R_10I51x8wDDOebEm       </td><td>                                </td><td>⋯</td><td>                                               </td><td>                                                   </td><td>                                            </td><td>                                                        </td><td>                                                                                                                    </td><td>                                                                                                                        </td><td>                                                                                                                 </td><td>                                                                                                                          </td><td>                                                                                                   </td><td>                                                                                                                         </td></tr>\n",
              "\t<tr><th scope=row>5</th><td>2022-09-22 06:28:30                                 </td><td>2022-09-22 06:28:42                               </td><td>Survey Preview       </td><td>                        </td><td>100                    </td><td>11                     </td><td>True                   </td><td>2022-09-22 06:28:43                                    </td><td>R_1jwieeD6Ueq9Ttw       </td><td>                                </td><td>⋯</td><td>                                               </td><td>                                                   </td><td>                                            </td><td>                                                        </td><td>                                                                                                                    </td><td>                                                                                                                        </td><td>                                                                                                                 </td><td>                                                                                                                          </td><td>                                                                                                   </td><td>                                                                                                                         </td></tr>\n",
              "\t<tr><th scope=row>6</th><td>2022-09-23 03:11:59                                 </td><td>2022-09-23 03:12:33                               </td><td>Survey Preview       </td><td>                        </td><td>100                    </td><td>34                     </td><td>True                   </td><td>2022-09-23 03:12:34                                    </td><td>R_1IcJOQFnyyP54xU       </td><td>                                </td><td>⋯</td><td>                                               </td><td>                                                   </td><td>                                            </td><td>                                                        </td><td>                                                                                                                    </td><td>                                                                                                                        </td><td>                                                                                                                 </td><td>                                                                                                                          </td><td>                                                                                                   </td><td>                                                                                                                         </td></tr>\n",
              "</tbody>\n",
              "</table>\n"
            ],
            "text/markdown": "\nA data.frame: 6 × 54\n\n| <!--/--> | StartDate &lt;chr&gt; | EndDate &lt;chr&gt; | Status &lt;chr&gt; | IPAddress &lt;chr&gt; | Progress &lt;chr&gt; | Duration..in.seconds. &lt;chr&gt; | Finished &lt;chr&gt; | RecordedDate &lt;chr&gt; | ResponseId &lt;chr&gt; | RecipientLastName &lt;chr&gt; | ⋯ ⋯ | Q17.1 &lt;chr&gt; | Q17.2 &lt;chr&gt; | Q17.3 &lt;chr&gt; | Q17.4 &lt;chr&gt; | Q17.5_1 &lt;chr&gt; | Q17.5_2 &lt;chr&gt; | Q17.5_3 &lt;chr&gt; | Q17.5_4 &lt;chr&gt; | Q17.5_5 &lt;chr&gt; | Q18.1 &lt;chr&gt; |\n|---|---|---|---|---|---|---|---|---|---|---|---|---|---|---|---|---|---|---|---|---|---|\n| 1 | Start Date                                           | End Date                                           | Response Type         | IP Address               | Progress                | Duration (in seconds)   | Finished                | Recorded Date                                           | Response ID              | Recipient Last Name              | ⋯ | I intend to use AI to automate repetitive tasks | I intend to use AI to assist me with creative tasks | I intend to use AI in my learning activities | I intend to stay informed about emerging AI technologies | How much do you agree with the following statements? - I intend to use AI to automate repetitive tasks in the future | How much do you agree with the following statements? - I intend to use AI to assist me with creative tasks in the future | How much do you agree with the following statements? - I intend to use AI in my learning activities in the future | How much do you agree with the following statements? - I intend to stay informed of emerging AI technologies in the future | How much do you agree with the following statements? - I intend to work with AI in my future career | If you would like to take part in the GIVEAWAY of an Amazon gift card or a BUas hoodie, please enter your student number. |\n| 2 | {\"ImportId\":\"startDate\",\"timeZone\":\"America/Denver\"} | {\"ImportId\":\"endDate\",\"timeZone\":\"America/Denver\"} | {\"ImportId\":\"status\"} | {\"ImportId\":\"ipAddress\"} | {\"ImportId\":\"progress\"} | {\"ImportId\":\"duration\"} | {\"ImportId\":\"finished\"} | {\"ImportId\":\"recordedDate\",\"timeZone\":\"America/Denver\"} | {\"ImportId\":\"_recordId\"} | {\"ImportId\":\"recipientLastName\"} | ⋯ | {\"ImportId\":\"QID33\"}                            | {\"ImportId\":\"QID36\"}                                | {\"ImportId\":\"QID34\"}                         | {\"ImportId\":\"QID35\"}                                     | {\"ImportId\":\"QID81_1\"}                                                                                               | {\"ImportId\":\"QID81_2\"}                                                                                                   | {\"ImportId\":\"QID81_3\"}                                                                                            | {\"ImportId\":\"QID81_4\"}                                                                                                     | {\"ImportId\":\"QID81_5\"}                                                                              | {\"ImportId\":\"QID87_TEXT\"}                                                                                                 |\n| 3 | 2022-09-21 02:45:52                                  | 2022-09-21 02:46:02                                | Survey Preview        | <!----> | 100                     | 9                       | True                    | 2022-09-21 02:46:03                                     | R_ODzLennzv91wiNH        | <!----> | ⋯ | <!----> | <!----> | <!----> | <!----> | <!----> | <!----> | <!----> | <!----> | <!----> | <!----> |\n| 4 | 2022-09-21 09:24:26                                  | 2022-09-21 09:25:16                                | Survey Preview        | <!----> | 100                     | 50                      | True                    | 2022-09-21 09:25:17                                     | R_10I51x8wDDOebEm        | <!----> | ⋯ | <!----> | <!----> | <!----> | <!----> | <!----> | <!----> | <!----> | <!----> | <!----> | <!----> |\n| 5 | 2022-09-22 06:28:30                                  | 2022-09-22 06:28:42                                | Survey Preview        | <!----> | 100                     | 11                      | True                    | 2022-09-22 06:28:43                                     | R_1jwieeD6Ueq9Ttw        | <!----> | ⋯ | <!----> | <!----> | <!----> | <!----> | <!----> | <!----> | <!----> | <!----> | <!----> | <!----> |\n| 6 | 2022-09-23 03:11:59                                  | 2022-09-23 03:12:33                                | Survey Preview        | <!----> | 100                     | 34                      | True                    | 2022-09-23 03:12:34                                     | R_1IcJOQFnyyP54xU        | <!----> | ⋯ | <!----> | <!----> | <!----> | <!----> | <!----> | <!----> | <!----> | <!----> | <!----> | <!----> |\n\n",
            "text/latex": "A data.frame: 6 × 54\n\\begin{tabular}{r|lllllllllllllllllllll}\n  & StartDate & EndDate & Status & IPAddress & Progress & Duration..in.seconds. & Finished & RecordedDate & ResponseId & RecipientLastName & ⋯ & Q17.1 & Q17.2 & Q17.3 & Q17.4 & Q17.5\\_1 & Q17.5\\_2 & Q17.5\\_3 & Q17.5\\_4 & Q17.5\\_5 & Q18.1\\\\\n  & <chr> & <chr> & <chr> & <chr> & <chr> & <chr> & <chr> & <chr> & <chr> & <chr> & ⋯ & <chr> & <chr> & <chr> & <chr> & <chr> & <chr> & <chr> & <chr> & <chr> & <chr>\\\\\n\\hline\n\t1 & Start Date                                           & End Date                                           & Response Type         & IP Address               & Progress                & Duration (in seconds)   & Finished                & Recorded Date                                           & Response ID              & Recipient Last Name              & ⋯ & I intend to use AI to automate repetitive tasks & I intend to use AI to assist me with creative tasks & I intend to use AI in my learning activities & I intend to stay informed about emerging AI technologies & How much do you agree with the following statements? - I intend to use AI to automate repetitive tasks in the future & How much do you agree with the following statements? - I intend to use AI to assist me with creative tasks in the future & How much do you agree with the following statements? - I intend to use AI in my learning activities in the future & How much do you agree with the following statements? - I intend to stay informed of emerging AI technologies in the future & How much do you agree with the following statements? - I intend to work with AI in my future career & If you would like to take part in the GIVEAWAY of an Amazon gift card or a BUas hoodie, please enter your student number.\\\\\n\t2 & \\{\"ImportId\":\"startDate\",\"timeZone\":\"America/Denver\"\\} & \\{\"ImportId\":\"endDate\",\"timeZone\":\"America/Denver\"\\} & \\{\"ImportId\":\"status\"\\} & \\{\"ImportId\":\"ipAddress\"\\} & \\{\"ImportId\":\"progress\"\\} & \\{\"ImportId\":\"duration\"\\} & \\{\"ImportId\":\"finished\"\\} & \\{\"ImportId\":\"recordedDate\",\"timeZone\":\"America/Denver\"\\} & \\{\"ImportId\":\"\\_recordId\"\\} & \\{\"ImportId\":\"recipientLastName\"\\} & ⋯ & \\{\"ImportId\":\"QID33\"\\}                            & \\{\"ImportId\":\"QID36\"\\}                                & \\{\"ImportId\":\"QID34\"\\}                         & \\{\"ImportId\":\"QID35\"\\}                                     & \\{\"ImportId\":\"QID81\\_1\"\\}                                                                                               & \\{\"ImportId\":\"QID81\\_2\"\\}                                                                                                   & \\{\"ImportId\":\"QID81\\_3\"\\}                                                                                            & \\{\"ImportId\":\"QID81\\_4\"\\}                                                                                                     & \\{\"ImportId\":\"QID81\\_5\"\\}                                                                              & \\{\"ImportId\":\"QID87\\_TEXT\"\\}                                                                                                \\\\\n\t3 & 2022-09-21 02:45:52                                  & 2022-09-21 02:46:02                                & Survey Preview        &                          & 100                     & 9                       & True                    & 2022-09-21 02:46:03                                     & R\\_ODzLennzv91wiNH        &                                  & ⋯ &                                                 &                                                     &                                              &                                                          &                                                                                                                      &                                                                                                                          &                                                                                                                   &                                                                                                                            &                                                                                                     &                                                                                                                          \\\\\n\t4 & 2022-09-21 09:24:26                                  & 2022-09-21 09:25:16                                & Survey Preview        &                          & 100                     & 50                      & True                    & 2022-09-21 09:25:17                                     & R\\_10I51x8wDDOebEm        &                                  & ⋯ &                                                 &                                                     &                                              &                                                          &                                                                                                                      &                                                                                                                          &                                                                                                                   &                                                                                                                            &                                                                                                     &                                                                                                                          \\\\\n\t5 & 2022-09-22 06:28:30                                  & 2022-09-22 06:28:42                                & Survey Preview        &                          & 100                     & 11                      & True                    & 2022-09-22 06:28:43                                     & R\\_1jwieeD6Ueq9Ttw        &                                  & ⋯ &                                                 &                                                     &                                              &                                                          &                                                                                                                      &                                                                                                                          &                                                                                                                   &                                                                                                                            &                                                                                                     &                                                                                                                          \\\\\n\t6 & 2022-09-23 03:11:59                                  & 2022-09-23 03:12:33                                & Survey Preview        &                          & 100                     & 34                      & True                    & 2022-09-23 03:12:34                                     & R\\_1IcJOQFnyyP54xU        &                                  & ⋯ &                                                 &                                                     &                                              &                                                          &                                                                                                                      &                                                                                                                          &                                                                                                                   &                                                                                                                            &                                                                                                     &                                                                                                                          \\\\\n\\end{tabular}\n",
            "text/plain": [
              "  StartDate                                           \n",
              "1 Start Date                                          \n",
              "2 {\"ImportId\":\"startDate\",\"timeZone\":\"America/Denver\"}\n",
              "3 2022-09-21 02:45:52                                 \n",
              "4 2022-09-21 09:24:26                                 \n",
              "5 2022-09-22 06:28:30                                 \n",
              "6 2022-09-23 03:11:59                                 \n",
              "  EndDate                                            Status               \n",
              "1 End Date                                           Response Type        \n",
              "2 {\"ImportId\":\"endDate\",\"timeZone\":\"America/Denver\"} {\"ImportId\":\"status\"}\n",
              "3 2022-09-21 02:46:02                                Survey Preview       \n",
              "4 2022-09-21 09:25:16                                Survey Preview       \n",
              "5 2022-09-22 06:28:42                                Survey Preview       \n",
              "6 2022-09-23 03:12:33                                Survey Preview       \n",
              "  IPAddress                Progress                Duration..in.seconds.  \n",
              "1 IP Address               Progress                Duration (in seconds)  \n",
              "2 {\"ImportId\":\"ipAddress\"} {\"ImportId\":\"progress\"} {\"ImportId\":\"duration\"}\n",
              "3                          100                     9                      \n",
              "4                          100                     50                     \n",
              "5                          100                     11                     \n",
              "6                          100                     34                     \n",
              "  Finished               \n",
              "1 Finished               \n",
              "2 {\"ImportId\":\"finished\"}\n",
              "3 True                   \n",
              "4 True                   \n",
              "5 True                   \n",
              "6 True                   \n",
              "  RecordedDate                                           \n",
              "1 Recorded Date                                          \n",
              "2 {\"ImportId\":\"recordedDate\",\"timeZone\":\"America/Denver\"}\n",
              "3 2022-09-21 02:46:03                                    \n",
              "4 2022-09-21 09:25:17                                    \n",
              "5 2022-09-22 06:28:43                                    \n",
              "6 2022-09-23 03:12:34                                    \n",
              "  ResponseId               RecipientLastName                ⋯\n",
              "1 Response ID              Recipient Last Name              ⋯\n",
              "2 {\"ImportId\":\"_recordId\"} {\"ImportId\":\"recipientLastName\"} ⋯\n",
              "3 R_ODzLennzv91wiNH                                         ⋯\n",
              "4 R_10I51x8wDDOebEm                                         ⋯\n",
              "5 R_1jwieeD6Ueq9Ttw                                         ⋯\n",
              "6 R_1IcJOQFnyyP54xU                                         ⋯\n",
              "  Q17.1                                          \n",
              "1 I intend to use AI to automate repetitive tasks\n",
              "2 {\"ImportId\":\"QID33\"}                           \n",
              "3                                                \n",
              "4                                                \n",
              "5                                                \n",
              "6                                                \n",
              "  Q17.2                                              \n",
              "1 I intend to use AI to assist me with creative tasks\n",
              "2 {\"ImportId\":\"QID36\"}                               \n",
              "3                                                    \n",
              "4                                                    \n",
              "5                                                    \n",
              "6                                                    \n",
              "  Q17.3                                       \n",
              "1 I intend to use AI in my learning activities\n",
              "2 {\"ImportId\":\"QID34\"}                        \n",
              "3                                             \n",
              "4                                             \n",
              "5                                             \n",
              "6                                             \n",
              "  Q17.4                                                   \n",
              "1 I intend to stay informed about emerging AI technologies\n",
              "2 {\"ImportId\":\"QID35\"}                                    \n",
              "3                                                         \n",
              "4                                                         \n",
              "5                                                         \n",
              "6                                                         \n",
              "  Q17.5_1                                                                                                             \n",
              "1 How much do you agree with the following statements? - I intend to use AI to automate repetitive tasks in the future\n",
              "2 {\"ImportId\":\"QID81_1\"}                                                                                              \n",
              "3                                                                                                                     \n",
              "4                                                                                                                     \n",
              "5                                                                                                                     \n",
              "6                                                                                                                     \n",
              "  Q17.5_2                                                                                                                 \n",
              "1 How much do you agree with the following statements? - I intend to use AI to assist me with creative tasks in the future\n",
              "2 {\"ImportId\":\"QID81_2\"}                                                                                                  \n",
              "3                                                                                                                         \n",
              "4                                                                                                                         \n",
              "5                                                                                                                         \n",
              "6                                                                                                                         \n",
              "  Q17.5_3                                                                                                          \n",
              "1 How much do you agree with the following statements? - I intend to use AI in my learning activities in the future\n",
              "2 {\"ImportId\":\"QID81_3\"}                                                                                           \n",
              "3                                                                                                                  \n",
              "4                                                                                                                  \n",
              "5                                                                                                                  \n",
              "6                                                                                                                  \n",
              "  Q17.5_4                                                                                                                   \n",
              "1 How much do you agree with the following statements? - I intend to stay informed of emerging AI technologies in the future\n",
              "2 {\"ImportId\":\"QID81_4\"}                                                                                                    \n",
              "3                                                                                                                           \n",
              "4                                                                                                                           \n",
              "5                                                                                                                           \n",
              "6                                                                                                                           \n",
              "  Q17.5_5                                                                                            \n",
              "1 How much do you agree with the following statements? - I intend to work with AI in my future career\n",
              "2 {\"ImportId\":\"QID81_5\"}                                                                             \n",
              "3                                                                                                    \n",
              "4                                                                                                    \n",
              "5                                                                                                    \n",
              "6                                                                                                    \n",
              "  Q18.1                                                                                                                    \n",
              "1 If you would like to take part in the GIVEAWAY of an Amazon gift card or a BUas hoodie, please enter your student number.\n",
              "2 {\"ImportId\":\"QID87_TEXT\"}                                                                                                \n",
              "3                                                                                                                          \n",
              "4                                                                                                                          \n",
              "5                                                                                                                          \n",
              "6                                                                                                                          "
            ]
          },
          "metadata": {}
        },
        {
          "output_type": "display_data",
          "data": {
            "text/html": [
              "341"
            ],
            "text/markdown": "341",
            "text/latex": "341",
            "text/plain": [
              "[1] 341"
            ]
          },
          "metadata": {}
        },
        {
          "output_type": "display_data",
          "data": {
            "text/html": [
              "54"
            ],
            "text/markdown": "54",
            "text/latex": "54",
            "text/plain": [
              "[1] 54"
            ]
          },
          "metadata": {}
        }
      ]
    },
    {
      "cell_type": "markdown",
      "source": [],
      "metadata": {
        "id": "B7LFiIyxKrqW"
      }
    },
    {
      "cell_type": "code",
      "source": [
        "#changing col name\n",
        "colnames(survey)\n",
        "names(survey)[6] <- \"Duration_seconds\"\n"
      ],
      "metadata": {
        "colab": {
          "base_uri": "https://localhost:8080/",
          "height": 104
        },
        "id": "XjruUERoRnus",
        "outputId": "cb5ccbaa-a35f-400c-b8a5-887cae76f20f"
      },
      "execution_count": 145,
      "outputs": [
        {
          "output_type": "display_data",
          "data": {
            "text/html": [
              "<style>\n",
              ".list-inline {list-style: none; margin:0; padding: 0}\n",
              ".list-inline>li {display: inline-block}\n",
              ".list-inline>li:not(:last-child)::after {content: \"\\00b7\"; padding: 0 .5ex}\n",
              "</style>\n",
              "<ol class=list-inline><li>'StartDate'</li><li>'EndDate'</li><li>'Status'</li><li>'IPAddress'</li><li>'Progress'</li><li>'Duration..in.seconds.'</li><li>'Finished'</li><li>'RecordedDate'</li><li>'ResponseId'</li><li>'RecipientLastName'</li><li>'RecipientFirstName'</li><li>'RecipientEmail'</li><li>'ExternalReference'</li><li>'LocationLatitude'</li><li>'LocationLongitude'</li><li>'DistributionChannel'</li><li>'UserLanguage'</li><li>'Q2.1'</li><li>'Q4.1'</li><li>'Q4.2'</li><li>'Q4.3'</li><li>'Q4.4'</li><li>'Q4.5'</li><li>'Q7.2'</li><li>'Q7.3'</li><li>'Q9.2'</li><li>'Q10.2'</li><li>'Q10.3_1'</li><li>'Q10.3_2'</li><li>'Q10.3_3'</li><li>'Q10.3_4'</li><li>'Q10.3_5'</li><li>'Q13.1'</li><li>'Q13.2'</li><li>'Q13.3'</li><li>'Q13.4'</li><li>'Q13.5'</li><li>'Q14.1'</li><li>'Q14.2'</li><li>'Q14.3'</li><li>'Q14.4'</li><li>'Q16.1'</li><li>'Q16.2'</li><li>'Q16.3'</li><li>'Q17.1'</li><li>'Q17.2'</li><li>'Q17.3'</li><li>'Q17.4'</li><li>'Q17.5_1'</li><li>'Q17.5_2'</li><li>'Q17.5_3'</li><li>'Q17.5_4'</li><li>'Q17.5_5'</li><li>'Q18.1'</li></ol>\n"
            ],
            "text/markdown": "1. 'StartDate'\n2. 'EndDate'\n3. 'Status'\n4. 'IPAddress'\n5. 'Progress'\n6. 'Duration..in.seconds.'\n7. 'Finished'\n8. 'RecordedDate'\n9. 'ResponseId'\n10. 'RecipientLastName'\n11. 'RecipientFirstName'\n12. 'RecipientEmail'\n13. 'ExternalReference'\n14. 'LocationLatitude'\n15. 'LocationLongitude'\n16. 'DistributionChannel'\n17. 'UserLanguage'\n18. 'Q2.1'\n19. 'Q4.1'\n20. 'Q4.2'\n21. 'Q4.3'\n22. 'Q4.4'\n23. 'Q4.5'\n24. 'Q7.2'\n25. 'Q7.3'\n26. 'Q9.2'\n27. 'Q10.2'\n28. 'Q10.3_1'\n29. 'Q10.3_2'\n30. 'Q10.3_3'\n31. 'Q10.3_4'\n32. 'Q10.3_5'\n33. 'Q13.1'\n34. 'Q13.2'\n35. 'Q13.3'\n36. 'Q13.4'\n37. 'Q13.5'\n38. 'Q14.1'\n39. 'Q14.2'\n40. 'Q14.3'\n41. 'Q14.4'\n42. 'Q16.1'\n43. 'Q16.2'\n44. 'Q16.3'\n45. 'Q17.1'\n46. 'Q17.2'\n47. 'Q17.3'\n48. 'Q17.4'\n49. 'Q17.5_1'\n50. 'Q17.5_2'\n51. 'Q17.5_3'\n52. 'Q17.5_4'\n53. 'Q17.5_5'\n54. 'Q18.1'\n\n\n",
            "text/latex": "\\begin{enumerate*}\n\\item 'StartDate'\n\\item 'EndDate'\n\\item 'Status'\n\\item 'IPAddress'\n\\item 'Progress'\n\\item 'Duration..in.seconds.'\n\\item 'Finished'\n\\item 'RecordedDate'\n\\item 'ResponseId'\n\\item 'RecipientLastName'\n\\item 'RecipientFirstName'\n\\item 'RecipientEmail'\n\\item 'ExternalReference'\n\\item 'LocationLatitude'\n\\item 'LocationLongitude'\n\\item 'DistributionChannel'\n\\item 'UserLanguage'\n\\item 'Q2.1'\n\\item 'Q4.1'\n\\item 'Q4.2'\n\\item 'Q4.3'\n\\item 'Q4.4'\n\\item 'Q4.5'\n\\item 'Q7.2'\n\\item 'Q7.3'\n\\item 'Q9.2'\n\\item 'Q10.2'\n\\item 'Q10.3\\_1'\n\\item 'Q10.3\\_2'\n\\item 'Q10.3\\_3'\n\\item 'Q10.3\\_4'\n\\item 'Q10.3\\_5'\n\\item 'Q13.1'\n\\item 'Q13.2'\n\\item 'Q13.3'\n\\item 'Q13.4'\n\\item 'Q13.5'\n\\item 'Q14.1'\n\\item 'Q14.2'\n\\item 'Q14.3'\n\\item 'Q14.4'\n\\item 'Q16.1'\n\\item 'Q16.2'\n\\item 'Q16.3'\n\\item 'Q17.1'\n\\item 'Q17.2'\n\\item 'Q17.3'\n\\item 'Q17.4'\n\\item 'Q17.5\\_1'\n\\item 'Q17.5\\_2'\n\\item 'Q17.5\\_3'\n\\item 'Q17.5\\_4'\n\\item 'Q17.5\\_5'\n\\item 'Q18.1'\n\\end{enumerate*}\n",
            "text/plain": [
              " [1] \"StartDate\"             \"EndDate\"               \"Status\"               \n",
              " [4] \"IPAddress\"             \"Progress\"              \"Duration..in.seconds.\"\n",
              " [7] \"Finished\"              \"RecordedDate\"          \"ResponseId\"           \n",
              "[10] \"RecipientLastName\"     \"RecipientFirstName\"    \"RecipientEmail\"       \n",
              "[13] \"ExternalReference\"     \"LocationLatitude\"      \"LocationLongitude\"    \n",
              "[16] \"DistributionChannel\"   \"UserLanguage\"          \"Q2.1\"                 \n",
              "[19] \"Q4.1\"                  \"Q4.2\"                  \"Q4.3\"                 \n",
              "[22] \"Q4.4\"                  \"Q4.5\"                  \"Q7.2\"                 \n",
              "[25] \"Q7.3\"                  \"Q9.2\"                  \"Q10.2\"                \n",
              "[28] \"Q10.3_1\"               \"Q10.3_2\"               \"Q10.3_3\"              \n",
              "[31] \"Q10.3_4\"               \"Q10.3_5\"               \"Q13.1\"                \n",
              "[34] \"Q13.2\"                 \"Q13.3\"                 \"Q13.4\"                \n",
              "[37] \"Q13.5\"                 \"Q14.1\"                 \"Q14.2\"                \n",
              "[40] \"Q14.3\"                 \"Q14.4\"                 \"Q16.1\"                \n",
              "[43] \"Q16.2\"                 \"Q16.3\"                 \"Q17.1\"                \n",
              "[46] \"Q17.2\"                 \"Q17.3\"                 \"Q17.4\"                \n",
              "[49] \"Q17.5_1\"               \"Q17.5_2\"               \"Q17.5_3\"              \n",
              "[52] \"Q17.5_4\"               \"Q17.5_5\"               \"Q18.1\"                "
            ]
          },
          "metadata": {}
        }
      ]
    },
    {
      "cell_type": "code",
      "source": [
        "# Delete first 2 rows\n",
        "#colnames(survey) <- survey[1,]\n",
        "survey <- survey[-1,]\n",
        "survey <- survey[-1,]\n",
        "#head(data)\n",
        "#survey <-remove_label_rows(survey, convert = TRUE, rename = FALSE) # Structure the dataset\n",
        "head(survey,3) # Show first 3 rows"
      ],
      "metadata": {
        "id": "Lll4leF8JHkf",
        "colab": {
          "base_uri": "https://localhost:8080/",
          "height": 316
        },
        "outputId": "0904faf6-0d51-4426-f0db-7bd6d8e79f30"
      },
      "execution_count": 146,
      "outputs": [
        {
          "output_type": "display_data",
          "data": {
            "text/html": [
              "<table class=\"dataframe\">\n",
              "<caption>A data.frame: 3 × 54</caption>\n",
              "<thead>\n",
              "\t<tr><th></th><th scope=col>StartDate</th><th scope=col>EndDate</th><th scope=col>Status</th><th scope=col>IPAddress</th><th scope=col>Progress</th><th scope=col>Duration_seconds</th><th scope=col>Finished</th><th scope=col>RecordedDate</th><th scope=col>ResponseId</th><th scope=col>RecipientLastName</th><th scope=col>⋯</th><th scope=col>Q17.1</th><th scope=col>Q17.2</th><th scope=col>Q17.3</th><th scope=col>Q17.4</th><th scope=col>Q17.5_1</th><th scope=col>Q17.5_2</th><th scope=col>Q17.5_3</th><th scope=col>Q17.5_4</th><th scope=col>Q17.5_5</th><th scope=col>Q18.1</th></tr>\n",
              "\t<tr><th></th><th scope=col>&lt;chr&gt;</th><th scope=col>&lt;chr&gt;</th><th scope=col>&lt;chr&gt;</th><th scope=col>&lt;chr&gt;</th><th scope=col>&lt;chr&gt;</th><th scope=col>&lt;chr&gt;</th><th scope=col>&lt;chr&gt;</th><th scope=col>&lt;chr&gt;</th><th scope=col>&lt;chr&gt;</th><th scope=col>&lt;chr&gt;</th><th scope=col>⋯</th><th scope=col>&lt;chr&gt;</th><th scope=col>&lt;chr&gt;</th><th scope=col>&lt;chr&gt;</th><th scope=col>&lt;chr&gt;</th><th scope=col>&lt;chr&gt;</th><th scope=col>&lt;chr&gt;</th><th scope=col>&lt;chr&gt;</th><th scope=col>&lt;chr&gt;</th><th scope=col>&lt;chr&gt;</th><th scope=col>&lt;chr&gt;</th></tr>\n",
              "</thead>\n",
              "<tbody>\n",
              "\t<tr><th scope=row>3</th><td>2022-09-21 02:45:52</td><td>2022-09-21 02:46:02</td><td>Survey Preview</td><td></td><td>100</td><td>9 </td><td>True</td><td>2022-09-21 02:46:03</td><td>R_ODzLennzv91wiNH</td><td></td><td>⋯</td><td></td><td></td><td></td><td></td><td></td><td></td><td></td><td></td><td></td><td></td></tr>\n",
              "\t<tr><th scope=row>4</th><td>2022-09-21 09:24:26</td><td>2022-09-21 09:25:16</td><td>Survey Preview</td><td></td><td>100</td><td>50</td><td>True</td><td>2022-09-21 09:25:17</td><td>R_10I51x8wDDOebEm</td><td></td><td>⋯</td><td></td><td></td><td></td><td></td><td></td><td></td><td></td><td></td><td></td><td></td></tr>\n",
              "\t<tr><th scope=row>5</th><td>2022-09-22 06:28:30</td><td>2022-09-22 06:28:42</td><td>Survey Preview</td><td></td><td>100</td><td>11</td><td>True</td><td>2022-09-22 06:28:43</td><td>R_1jwieeD6Ueq9Ttw</td><td></td><td>⋯</td><td></td><td></td><td></td><td></td><td></td><td></td><td></td><td></td><td></td><td></td></tr>\n",
              "</tbody>\n",
              "</table>\n"
            ],
            "text/markdown": "\nA data.frame: 3 × 54\n\n| <!--/--> | StartDate &lt;chr&gt; | EndDate &lt;chr&gt; | Status &lt;chr&gt; | IPAddress &lt;chr&gt; | Progress &lt;chr&gt; | Duration_seconds &lt;chr&gt; | Finished &lt;chr&gt; | RecordedDate &lt;chr&gt; | ResponseId &lt;chr&gt; | RecipientLastName &lt;chr&gt; | ⋯ ⋯ | Q17.1 &lt;chr&gt; | Q17.2 &lt;chr&gt; | Q17.3 &lt;chr&gt; | Q17.4 &lt;chr&gt; | Q17.5_1 &lt;chr&gt; | Q17.5_2 &lt;chr&gt; | Q17.5_3 &lt;chr&gt; | Q17.5_4 &lt;chr&gt; | Q17.5_5 &lt;chr&gt; | Q18.1 &lt;chr&gt; |\n|---|---|---|---|---|---|---|---|---|---|---|---|---|---|---|---|---|---|---|---|---|---|\n| 3 | 2022-09-21 02:45:52 | 2022-09-21 02:46:02 | Survey Preview | <!----> | 100 | 9  | True | 2022-09-21 02:46:03 | R_ODzLennzv91wiNH | <!----> | ⋯ | <!----> | <!----> | <!----> | <!----> | <!----> | <!----> | <!----> | <!----> | <!----> | <!----> |\n| 4 | 2022-09-21 09:24:26 | 2022-09-21 09:25:16 | Survey Preview | <!----> | 100 | 50 | True | 2022-09-21 09:25:17 | R_10I51x8wDDOebEm | <!----> | ⋯ | <!----> | <!----> | <!----> | <!----> | <!----> | <!----> | <!----> | <!----> | <!----> | <!----> |\n| 5 | 2022-09-22 06:28:30 | 2022-09-22 06:28:42 | Survey Preview | <!----> | 100 | 11 | True | 2022-09-22 06:28:43 | R_1jwieeD6Ueq9Ttw | <!----> | ⋯ | <!----> | <!----> | <!----> | <!----> | <!----> | <!----> | <!----> | <!----> | <!----> | <!----> |\n\n",
            "text/latex": "A data.frame: 3 × 54\n\\begin{tabular}{r|lllllllllllllllllllll}\n  & StartDate & EndDate & Status & IPAddress & Progress & Duration\\_seconds & Finished & RecordedDate & ResponseId & RecipientLastName & ⋯ & Q17.1 & Q17.2 & Q17.3 & Q17.4 & Q17.5\\_1 & Q17.5\\_2 & Q17.5\\_3 & Q17.5\\_4 & Q17.5\\_5 & Q18.1\\\\\n  & <chr> & <chr> & <chr> & <chr> & <chr> & <chr> & <chr> & <chr> & <chr> & <chr> & ⋯ & <chr> & <chr> & <chr> & <chr> & <chr> & <chr> & <chr> & <chr> & <chr> & <chr>\\\\\n\\hline\n\t3 & 2022-09-21 02:45:52 & 2022-09-21 02:46:02 & Survey Preview &  & 100 & 9  & True & 2022-09-21 02:46:03 & R\\_ODzLennzv91wiNH &  & ⋯ &  &  &  &  &  &  &  &  &  & \\\\\n\t4 & 2022-09-21 09:24:26 & 2022-09-21 09:25:16 & Survey Preview &  & 100 & 50 & True & 2022-09-21 09:25:17 & R\\_10I51x8wDDOebEm &  & ⋯ &  &  &  &  &  &  &  &  &  & \\\\\n\t5 & 2022-09-22 06:28:30 & 2022-09-22 06:28:42 & Survey Preview &  & 100 & 11 & True & 2022-09-22 06:28:43 & R\\_1jwieeD6Ueq9Ttw &  & ⋯ &  &  &  &  &  &  &  &  &  & \\\\\n\\end{tabular}\n",
            "text/plain": [
              "  StartDate           EndDate             Status         IPAddress Progress\n",
              "3 2022-09-21 02:45:52 2022-09-21 02:46:02 Survey Preview           100     \n",
              "4 2022-09-21 09:24:26 2022-09-21 09:25:16 Survey Preview           100     \n",
              "5 2022-09-22 06:28:30 2022-09-22 06:28:42 Survey Preview           100     \n",
              "  Duration_seconds Finished RecordedDate        ResponseId       \n",
              "3 9                True     2022-09-21 02:46:03 R_ODzLennzv91wiNH\n",
              "4 50               True     2022-09-21 09:25:17 R_10I51x8wDDOebEm\n",
              "5 11               True     2022-09-22 06:28:43 R_1jwieeD6Ueq9Ttw\n",
              "  RecipientLastName ⋯ Q17.1 Q17.2 Q17.3 Q17.4 Q17.5_1 Q17.5_2 Q17.5_3 Q17.5_4\n",
              "3                   ⋯                                                        \n",
              "4                   ⋯                                                        \n",
              "5                   ⋯                                                        \n",
              "  Q17.5_5 Q18.1\n",
              "3              \n",
              "4              \n",
              "5              "
            ]
          },
          "metadata": {}
        }
      ]
    },
    {
      "cell_type": "markdown",
      "source": [
        "## Cleaning Process"
      ],
      "metadata": {
        "id": "10yBe1xePJQI"
      }
    },
    {
      "cell_type": "code",
      "source": [
        "#Exclude the Survey Prev\n",
        "survey <- survey[!(survey$`Status` == \"Survey Preview\"),] # Delete rows where the preview was used to fill survey in\n",
        "\n",
        "# Not finished\n",
        "survey <- survey[!(survey$Finished == FALSE),] # Delete rows where the respondent did not finish the survey\n",
        "\n",
        "\n",
        "\n",
        "# Exclude less than 45 finished\n",
        "survey$Duration_seconds <- as.numeric(as.character(survey$Duration_seconds)) # Change column \"Duration..in.seconds.\" to numeric for next step\n",
        "\n",
        "survey <- survey[(survey$`Duration_seconds` > 45),] # Delete rows survey is finished in less than 45 seconds\n"
      ],
      "metadata": {
        "id": "FB-pzwPUPJrS"
      },
      "execution_count": 153,
      "outputs": []
    },
    {
      "cell_type": "code",
      "source": [
        "head(survey,5)"
      ],
      "metadata": {
        "colab": {
          "base_uri": "https://localhost:8080/",
          "height": 448
        },
        "id": "HLLlBay2P7cZ",
        "outputId": "ef79eef5-800d-42b1-cc47-bb2598e006a3"
      },
      "execution_count": 154,
      "outputs": [
        {
          "output_type": "display_data",
          "data": {
            "text/html": [
              "<table class=\"dataframe\">\n",
              "<caption>A data.frame: 5 × 54</caption>\n",
              "<thead>\n",
              "\t<tr><th></th><th scope=col>StartDate</th><th scope=col>EndDate</th><th scope=col>Status</th><th scope=col>IPAddress</th><th scope=col>Progress</th><th scope=col>Duration_seconds</th><th scope=col>Finished</th><th scope=col>RecordedDate</th><th scope=col>ResponseId</th><th scope=col>RecipientLastName</th><th scope=col>⋯</th><th scope=col>Q17.1</th><th scope=col>Q17.2</th><th scope=col>Q17.3</th><th scope=col>Q17.4</th><th scope=col>Q17.5_1</th><th scope=col>Q17.5_2</th><th scope=col>Q17.5_3</th><th scope=col>Q17.5_4</th><th scope=col>Q17.5_5</th><th scope=col>Q18.1</th></tr>\n",
              "\t<tr><th></th><th scope=col>&lt;chr&gt;</th><th scope=col>&lt;chr&gt;</th><th scope=col>&lt;chr&gt;</th><th scope=col>&lt;chr&gt;</th><th scope=col>&lt;chr&gt;</th><th scope=col>&lt;dbl&gt;</th><th scope=col>&lt;chr&gt;</th><th scope=col>&lt;chr&gt;</th><th scope=col>&lt;chr&gt;</th><th scope=col>&lt;chr&gt;</th><th scope=col>⋯</th><th scope=col>&lt;chr&gt;</th><th scope=col>&lt;chr&gt;</th><th scope=col>&lt;chr&gt;</th><th scope=col>&lt;chr&gt;</th><th scope=col>&lt;chr&gt;</th><th scope=col>&lt;chr&gt;</th><th scope=col>&lt;chr&gt;</th><th scope=col>&lt;chr&gt;</th><th scope=col>&lt;chr&gt;</th><th scope=col>&lt;chr&gt;</th></tr>\n",
              "</thead>\n",
              "<tbody>\n",
              "\t<tr><th scope=row>19</th><td>2022-09-28 03:35:59</td><td>2022-09-28 03:40:15</td><td>IP Address</td><td>145.101.194.168</td><td>100</td><td>256</td><td>True</td><td>2022-09-28 03:40:15</td><td>R_3oGRiHiwYWHT46c</td><td></td><td>⋯</td><td>Somewhat agree            </td><td>Somewhat disagree         </td><td>Somewhat agree            </td><td>Strongly agree   </td><td>Somewhat agree            </td><td>Somewhat disagree         </td><td>Somewhat agree   </td><td>Strongly agree   </td><td>Neither agree nor disagree</td><td>211552</td></tr>\n",
              "\t<tr><th scope=row>20</th><td>2022-09-28 03:44:45</td><td>2022-09-28 03:50:05</td><td>IP Address</td><td>145.101.196.134</td><td>100</td><td>320</td><td>True</td><td>2022-09-28 03:50:05</td><td>R_cvbMMuNJjksgzgl</td><td></td><td>⋯</td><td>Somewhat agree            </td><td>Neither agree nor disagree</td><td>Somewhat disagree         </td><td>Somewhat disagree</td><td>Somewhat agree            </td><td>Neither agree nor disagree</td><td>Somewhat disagree</td><td>Somewhat disagree</td><td>Somewhat disagree         </td><td>212803</td></tr>\n",
              "\t<tr><th scope=row>22</th><td>2022-09-28 03:58:39</td><td>2022-09-28 04:02:24</td><td>IP Address</td><td>77.165.73.201  </td><td>100</td><td>225</td><td>True</td><td>2022-09-28 04:02:25</td><td>R_6XMEu9dKNqGwxm9</td><td></td><td>⋯</td><td>Neither agree nor disagree</td><td>Strongly disagree         </td><td>Neither agree nor disagree</td><td>Somewhat disagree</td><td>Neither agree nor disagree</td><td>Somewhat disagree         </td><td>Strongly disagree</td><td>Strongly disagree</td><td>Somewhat disagree         </td><td>212169</td></tr>\n",
              "\t<tr><th scope=row>23</th><td>2022-09-28 04:03:51</td><td>2022-09-28 04:08:35</td><td>IP Address</td><td>145.101.205.93 </td><td>100</td><td>283</td><td>True</td><td>2022-09-28 04:08:35</td><td>R_27CB2RZHwgbJ0I1</td><td></td><td>⋯</td><td>Strongly agree            </td><td>Somewhat agree            </td><td>Somewhat agree            </td><td>Somewhat agree   </td><td>Strongly agree            </td><td>Strongly agree            </td><td>Strongly agree   </td><td>Strongly agree   </td><td>Neither agree nor disagree</td><td>202109</td></tr>\n",
              "\t<tr><th scope=row>24</th><td>2022-09-28 04:07:02</td><td>2022-09-28 04:10:48</td><td>IP Address</td><td>145.101.242.160</td><td>100</td><td>226</td><td>True</td><td>2022-09-28 04:10:49</td><td>R_3P4SewOBcBXtnNQ</td><td></td><td>⋯</td><td>Neither agree nor disagree</td><td>Neither agree nor disagree</td><td>Somewhat agree            </td><td>Somewhat agree   </td><td>Somewhat agree            </td><td>Neither agree nor disagree</td><td>Somewhat agree   </td><td>Somewhat agree   </td><td>Somewhat agree            </td><td>192816</td></tr>\n",
              "</tbody>\n",
              "</table>\n"
            ],
            "text/markdown": "\nA data.frame: 5 × 54\n\n| <!--/--> | StartDate &lt;chr&gt; | EndDate &lt;chr&gt; | Status &lt;chr&gt; | IPAddress &lt;chr&gt; | Progress &lt;chr&gt; | Duration_seconds &lt;dbl&gt; | Finished &lt;chr&gt; | RecordedDate &lt;chr&gt; | ResponseId &lt;chr&gt; | RecipientLastName &lt;chr&gt; | ⋯ ⋯ | Q17.1 &lt;chr&gt; | Q17.2 &lt;chr&gt; | Q17.3 &lt;chr&gt; | Q17.4 &lt;chr&gt; | Q17.5_1 &lt;chr&gt; | Q17.5_2 &lt;chr&gt; | Q17.5_3 &lt;chr&gt; | Q17.5_4 &lt;chr&gt; | Q17.5_5 &lt;chr&gt; | Q18.1 &lt;chr&gt; |\n|---|---|---|---|---|---|---|---|---|---|---|---|---|---|---|---|---|---|---|---|---|---|\n| 19 | 2022-09-28 03:35:59 | 2022-09-28 03:40:15 | IP Address | 145.101.194.168 | 100 | 256 | True | 2022-09-28 03:40:15 | R_3oGRiHiwYWHT46c | <!----> | ⋯ | Somewhat agree             | Somewhat disagree          | Somewhat agree             | Strongly agree    | Somewhat agree             | Somewhat disagree          | Somewhat agree    | Strongly agree    | Neither agree nor disagree | 211552 |\n| 20 | 2022-09-28 03:44:45 | 2022-09-28 03:50:05 | IP Address | 145.101.196.134 | 100 | 320 | True | 2022-09-28 03:50:05 | R_cvbMMuNJjksgzgl | <!----> | ⋯ | Somewhat agree             | Neither agree nor disagree | Somewhat disagree          | Somewhat disagree | Somewhat agree             | Neither agree nor disagree | Somewhat disagree | Somewhat disagree | Somewhat disagree          | 212803 |\n| 22 | 2022-09-28 03:58:39 | 2022-09-28 04:02:24 | IP Address | 77.165.73.201   | 100 | 225 | True | 2022-09-28 04:02:25 | R_6XMEu9dKNqGwxm9 | <!----> | ⋯ | Neither agree nor disagree | Strongly disagree          | Neither agree nor disagree | Somewhat disagree | Neither agree nor disagree | Somewhat disagree          | Strongly disagree | Strongly disagree | Somewhat disagree          | 212169 |\n| 23 | 2022-09-28 04:03:51 | 2022-09-28 04:08:35 | IP Address | 145.101.205.93  | 100 | 283 | True | 2022-09-28 04:08:35 | R_27CB2RZHwgbJ0I1 | <!----> | ⋯ | Strongly agree             | Somewhat agree             | Somewhat agree             | Somewhat agree    | Strongly agree             | Strongly agree             | Strongly agree    | Strongly agree    | Neither agree nor disagree | 202109 |\n| 24 | 2022-09-28 04:07:02 | 2022-09-28 04:10:48 | IP Address | 145.101.242.160 | 100 | 226 | True | 2022-09-28 04:10:49 | R_3P4SewOBcBXtnNQ | <!----> | ⋯ | Neither agree nor disagree | Neither agree nor disagree | Somewhat agree             | Somewhat agree    | Somewhat agree             | Neither agree nor disagree | Somewhat agree    | Somewhat agree    | Somewhat agree             | 192816 |\n\n",
            "text/latex": "A data.frame: 5 × 54\n\\begin{tabular}{r|lllllllllllllllllllll}\n  & StartDate & EndDate & Status & IPAddress & Progress & Duration\\_seconds & Finished & RecordedDate & ResponseId & RecipientLastName & ⋯ & Q17.1 & Q17.2 & Q17.3 & Q17.4 & Q17.5\\_1 & Q17.5\\_2 & Q17.5\\_3 & Q17.5\\_4 & Q17.5\\_5 & Q18.1\\\\\n  & <chr> & <chr> & <chr> & <chr> & <chr> & <dbl> & <chr> & <chr> & <chr> & <chr> & ⋯ & <chr> & <chr> & <chr> & <chr> & <chr> & <chr> & <chr> & <chr> & <chr> & <chr>\\\\\n\\hline\n\t19 & 2022-09-28 03:35:59 & 2022-09-28 03:40:15 & IP Address & 145.101.194.168 & 100 & 256 & True & 2022-09-28 03:40:15 & R\\_3oGRiHiwYWHT46c &  & ⋯ & Somewhat agree             & Somewhat disagree          & Somewhat agree             & Strongly agree    & Somewhat agree             & Somewhat disagree          & Somewhat agree    & Strongly agree    & Neither agree nor disagree & 211552\\\\\n\t20 & 2022-09-28 03:44:45 & 2022-09-28 03:50:05 & IP Address & 145.101.196.134 & 100 & 320 & True & 2022-09-28 03:50:05 & R\\_cvbMMuNJjksgzgl &  & ⋯ & Somewhat agree             & Neither agree nor disagree & Somewhat disagree          & Somewhat disagree & Somewhat agree             & Neither agree nor disagree & Somewhat disagree & Somewhat disagree & Somewhat disagree          & 212803\\\\\n\t22 & 2022-09-28 03:58:39 & 2022-09-28 04:02:24 & IP Address & 77.165.73.201   & 100 & 225 & True & 2022-09-28 04:02:25 & R\\_6XMEu9dKNqGwxm9 &  & ⋯ & Neither agree nor disagree & Strongly disagree          & Neither agree nor disagree & Somewhat disagree & Neither agree nor disagree & Somewhat disagree          & Strongly disagree & Strongly disagree & Somewhat disagree          & 212169\\\\\n\t23 & 2022-09-28 04:03:51 & 2022-09-28 04:08:35 & IP Address & 145.101.205.93  & 100 & 283 & True & 2022-09-28 04:08:35 & R\\_27CB2RZHwgbJ0I1 &  & ⋯ & Strongly agree             & Somewhat agree             & Somewhat agree             & Somewhat agree    & Strongly agree             & Strongly agree             & Strongly agree    & Strongly agree    & Neither agree nor disagree & 202109\\\\\n\t24 & 2022-09-28 04:07:02 & 2022-09-28 04:10:48 & IP Address & 145.101.242.160 & 100 & 226 & True & 2022-09-28 04:10:49 & R\\_3P4SewOBcBXtnNQ &  & ⋯ & Neither agree nor disagree & Neither agree nor disagree & Somewhat agree             & Somewhat agree    & Somewhat agree             & Neither agree nor disagree & Somewhat agree    & Somewhat agree    & Somewhat agree             & 192816\\\\\n\\end{tabular}\n",
            "text/plain": [
              "   StartDate           EndDate             Status     IPAddress       Progress\n",
              "19 2022-09-28 03:35:59 2022-09-28 03:40:15 IP Address 145.101.194.168 100     \n",
              "20 2022-09-28 03:44:45 2022-09-28 03:50:05 IP Address 145.101.196.134 100     \n",
              "22 2022-09-28 03:58:39 2022-09-28 04:02:24 IP Address 77.165.73.201   100     \n",
              "23 2022-09-28 04:03:51 2022-09-28 04:08:35 IP Address 145.101.205.93  100     \n",
              "24 2022-09-28 04:07:02 2022-09-28 04:10:48 IP Address 145.101.242.160 100     \n",
              "   Duration_seconds Finished RecordedDate        ResponseId       \n",
              "19 256              True     2022-09-28 03:40:15 R_3oGRiHiwYWHT46c\n",
              "20 320              True     2022-09-28 03:50:05 R_cvbMMuNJjksgzgl\n",
              "22 225              True     2022-09-28 04:02:25 R_6XMEu9dKNqGwxm9\n",
              "23 283              True     2022-09-28 04:08:35 R_27CB2RZHwgbJ0I1\n",
              "24 226              True     2022-09-28 04:10:49 R_3P4SewOBcBXtnNQ\n",
              "   RecipientLastName ⋯ Q17.1                      Q17.2                     \n",
              "19                   ⋯ Somewhat agree             Somewhat disagree         \n",
              "20                   ⋯ Somewhat agree             Neither agree nor disagree\n",
              "22                   ⋯ Neither agree nor disagree Strongly disagree         \n",
              "23                   ⋯ Strongly agree             Somewhat agree            \n",
              "24                   ⋯ Neither agree nor disagree Neither agree nor disagree\n",
              "   Q17.3                      Q17.4             Q17.5_1                   \n",
              "19 Somewhat agree             Strongly agree    Somewhat agree            \n",
              "20 Somewhat disagree          Somewhat disagree Somewhat agree            \n",
              "22 Neither agree nor disagree Somewhat disagree Neither agree nor disagree\n",
              "23 Somewhat agree             Somewhat agree    Strongly agree            \n",
              "24 Somewhat agree             Somewhat agree    Somewhat agree            \n",
              "   Q17.5_2                    Q17.5_3           Q17.5_4          \n",
              "19 Somewhat disagree          Somewhat agree    Strongly agree   \n",
              "20 Neither agree nor disagree Somewhat disagree Somewhat disagree\n",
              "22 Somewhat disagree          Strongly disagree Strongly disagree\n",
              "23 Strongly agree             Strongly agree    Strongly agree   \n",
              "24 Neither agree nor disagree Somewhat agree    Somewhat agree   \n",
              "   Q17.5_5                    Q18.1 \n",
              "19 Neither agree nor disagree 211552\n",
              "20 Somewhat disagree          212803\n",
              "22 Somewhat disagree          212169\n",
              "23 Neither agree nor disagree 202109\n",
              "24 Somewhat agree             192816"
            ]
          },
          "metadata": {}
        }
      ]
    },
    {
      "cell_type": "markdown",
      "source": [
        "## Delete Privacy-related information"
      ],
      "metadata": {
        "id": "wqn-3TtlU1d-"
      }
    },
    {
      "cell_type": "code",
      "source": [
        "# Delete IP, ResponseId and more privacy-related data\n",
        "survey <- deidentify(survey)\n",
        "head(survey,2)\n"
      ],
      "metadata": {
        "colab": {
          "base_uri": "https://localhost:8080/",
          "height": 250
        },
        "id": "l8ZhQx4uU2PW",
        "outputId": "a24e5ae6-f447-4657-b4ef-bbc42ca9eef2"
      },
      "execution_count": 157,
      "outputs": [
        {
          "output_type": "display_data",
          "data": {
            "text/html": [
              "<table class=\"dataframe\">\n",
              "<caption>A data.frame: 2 × 50</caption>\n",
              "<thead>\n",
              "\t<tr><th></th><th scope=col>StartDate</th><th scope=col>EndDate</th><th scope=col>Status</th><th scope=col>Progress</th><th scope=col>Duration_seconds</th><th scope=col>Finished</th><th scope=col>RecordedDate</th><th scope=col>ResponseId</th><th scope=col>RecipientLastName</th><th scope=col>RecipientFirstName</th><th scope=col>⋯</th><th scope=col>Q17.1</th><th scope=col>Q17.2</th><th scope=col>Q17.3</th><th scope=col>Q17.4</th><th scope=col>Q17.5_1</th><th scope=col>Q17.5_2</th><th scope=col>Q17.5_3</th><th scope=col>Q17.5_4</th><th scope=col>Q17.5_5</th><th scope=col>Q18.1</th></tr>\n",
              "\t<tr><th></th><th scope=col>&lt;chr&gt;</th><th scope=col>&lt;chr&gt;</th><th scope=col>&lt;chr&gt;</th><th scope=col>&lt;chr&gt;</th><th scope=col>&lt;dbl&gt;</th><th scope=col>&lt;chr&gt;</th><th scope=col>&lt;chr&gt;</th><th scope=col>&lt;chr&gt;</th><th scope=col>&lt;chr&gt;</th><th scope=col>&lt;chr&gt;</th><th scope=col>⋯</th><th scope=col>&lt;chr&gt;</th><th scope=col>&lt;chr&gt;</th><th scope=col>&lt;chr&gt;</th><th scope=col>&lt;chr&gt;</th><th scope=col>&lt;chr&gt;</th><th scope=col>&lt;chr&gt;</th><th scope=col>&lt;chr&gt;</th><th scope=col>&lt;chr&gt;</th><th scope=col>&lt;chr&gt;</th><th scope=col>&lt;chr&gt;</th></tr>\n",
              "</thead>\n",
              "<tbody>\n",
              "\t<tr><th scope=row>19</th><td>2022-09-28 03:35:59</td><td>2022-09-28 03:40:15</td><td>IP Address</td><td>100</td><td>256</td><td>True</td><td>2022-09-28 03:40:15</td><td>R_3oGRiHiwYWHT46c</td><td></td><td></td><td>⋯</td><td>Somewhat agree</td><td>Somewhat disagree         </td><td>Somewhat agree   </td><td>Strongly agree   </td><td>Somewhat agree</td><td>Somewhat disagree         </td><td>Somewhat agree   </td><td>Strongly agree   </td><td>Neither agree nor disagree</td><td>211552</td></tr>\n",
              "\t<tr><th scope=row>20</th><td>2022-09-28 03:44:45</td><td>2022-09-28 03:50:05</td><td>IP Address</td><td>100</td><td>320</td><td>True</td><td>2022-09-28 03:50:05</td><td>R_cvbMMuNJjksgzgl</td><td></td><td></td><td>⋯</td><td>Somewhat agree</td><td>Neither agree nor disagree</td><td>Somewhat disagree</td><td>Somewhat disagree</td><td>Somewhat agree</td><td>Neither agree nor disagree</td><td>Somewhat disagree</td><td>Somewhat disagree</td><td>Somewhat disagree         </td><td>212803</td></tr>\n",
              "</tbody>\n",
              "</table>\n"
            ],
            "text/markdown": "\nA data.frame: 2 × 50\n\n| <!--/--> | StartDate &lt;chr&gt; | EndDate &lt;chr&gt; | Status &lt;chr&gt; | Progress &lt;chr&gt; | Duration_seconds &lt;dbl&gt; | Finished &lt;chr&gt; | RecordedDate &lt;chr&gt; | ResponseId &lt;chr&gt; | RecipientLastName &lt;chr&gt; | RecipientFirstName &lt;chr&gt; | ⋯ ⋯ | Q17.1 &lt;chr&gt; | Q17.2 &lt;chr&gt; | Q17.3 &lt;chr&gt; | Q17.4 &lt;chr&gt; | Q17.5_1 &lt;chr&gt; | Q17.5_2 &lt;chr&gt; | Q17.5_3 &lt;chr&gt; | Q17.5_4 &lt;chr&gt; | Q17.5_5 &lt;chr&gt; | Q18.1 &lt;chr&gt; |\n|---|---|---|---|---|---|---|---|---|---|---|---|---|---|---|---|---|---|---|---|---|---|\n| 19 | 2022-09-28 03:35:59 | 2022-09-28 03:40:15 | IP Address | 100 | 256 | True | 2022-09-28 03:40:15 | R_3oGRiHiwYWHT46c | <!----> | <!----> | ⋯ | Somewhat agree | Somewhat disagree          | Somewhat agree    | Strongly agree    | Somewhat agree | Somewhat disagree          | Somewhat agree    | Strongly agree    | Neither agree nor disagree | 211552 |\n| 20 | 2022-09-28 03:44:45 | 2022-09-28 03:50:05 | IP Address | 100 | 320 | True | 2022-09-28 03:50:05 | R_cvbMMuNJjksgzgl | <!----> | <!----> | ⋯ | Somewhat agree | Neither agree nor disagree | Somewhat disagree | Somewhat disagree | Somewhat agree | Neither agree nor disagree | Somewhat disagree | Somewhat disagree | Somewhat disagree          | 212803 |\n\n",
            "text/latex": "A data.frame: 2 × 50\n\\begin{tabular}{r|lllllllllllllllllllll}\n  & StartDate & EndDate & Status & Progress & Duration\\_seconds & Finished & RecordedDate & ResponseId & RecipientLastName & RecipientFirstName & ⋯ & Q17.1 & Q17.2 & Q17.3 & Q17.4 & Q17.5\\_1 & Q17.5\\_2 & Q17.5\\_3 & Q17.5\\_4 & Q17.5\\_5 & Q18.1\\\\\n  & <chr> & <chr> & <chr> & <chr> & <dbl> & <chr> & <chr> & <chr> & <chr> & <chr> & ⋯ & <chr> & <chr> & <chr> & <chr> & <chr> & <chr> & <chr> & <chr> & <chr> & <chr>\\\\\n\\hline\n\t19 & 2022-09-28 03:35:59 & 2022-09-28 03:40:15 & IP Address & 100 & 256 & True & 2022-09-28 03:40:15 & R\\_3oGRiHiwYWHT46c &  &  & ⋯ & Somewhat agree & Somewhat disagree          & Somewhat agree    & Strongly agree    & Somewhat agree & Somewhat disagree          & Somewhat agree    & Strongly agree    & Neither agree nor disagree & 211552\\\\\n\t20 & 2022-09-28 03:44:45 & 2022-09-28 03:50:05 & IP Address & 100 & 320 & True & 2022-09-28 03:50:05 & R\\_cvbMMuNJjksgzgl &  &  & ⋯ & Somewhat agree & Neither agree nor disagree & Somewhat disagree & Somewhat disagree & Somewhat agree & Neither agree nor disagree & Somewhat disagree & Somewhat disagree & Somewhat disagree          & 212803\\\\\n\\end{tabular}\n",
            "text/plain": [
              "   StartDate           EndDate             Status     Progress Duration_seconds\n",
              "19 2022-09-28 03:35:59 2022-09-28 03:40:15 IP Address 100      256             \n",
              "20 2022-09-28 03:44:45 2022-09-28 03:50:05 IP Address 100      320             \n",
              "   Finished RecordedDate        ResponseId        RecipientLastName\n",
              "19 True     2022-09-28 03:40:15 R_3oGRiHiwYWHT46c                  \n",
              "20 True     2022-09-28 03:50:05 R_cvbMMuNJjksgzgl                  \n",
              "   RecipientFirstName ⋯ Q17.1          Q17.2                     \n",
              "19                    ⋯ Somewhat agree Somewhat disagree         \n",
              "20                    ⋯ Somewhat agree Neither agree nor disagree\n",
              "   Q17.3             Q17.4             Q17.5_1       \n",
              "19 Somewhat agree    Strongly agree    Somewhat agree\n",
              "20 Somewhat disagree Somewhat disagree Somewhat agree\n",
              "   Q17.5_2                    Q17.5_3           Q17.5_4          \n",
              "19 Somewhat disagree          Somewhat agree    Strongly agree   \n",
              "20 Neither agree nor disagree Somewhat disagree Somewhat disagree\n",
              "   Q17.5_5                    Q18.1 \n",
              "19 Neither agree nor disagree 211552\n",
              "20 Somewhat disagree          212803"
            ]
          },
          "metadata": {}
        }
      ]
    },
    {
      "cell_type": "markdown",
      "source": [
        "## Select columns"
      ],
      "metadata": {
        "id": "mb5fTXuhVq9A"
      }
    },
    {
      "cell_type": "code",
      "source": [
        "#important columns regarding my analyzing which are (Demographic Questions, Media, Awareness) from Qualtrics categories \n",
        "important_colm <- survey %>%\n",
        "  select(Q4.1, Q4.2, Q4.3, Q4.4, Q4.5, Q7.2, Q7.3, Q13.1, Q13.2, Q13.3, Q13.4, Q13.5)\n",
        "  head(important_colm)"
      ],
      "metadata": {
        "colab": {
          "base_uri": "https://localhost:8080/",
          "height": 408
        },
        "id": "I1dHH7rLVvc0",
        "outputId": "c92add92-2bce-487b-fee0-01bfc037fb24"
      },
      "execution_count": 258,
      "outputs": [
        {
          "output_type": "display_data",
          "data": {
            "text/html": [
              "<table class=\"dataframe\">\n",
              "<caption>A data.frame: 6 × 12</caption>\n",
              "<thead>\n",
              "\t<tr><th></th><th scope=col>Q4.1</th><th scope=col>Q4.2</th><th scope=col>Q4.3</th><th scope=col>Q4.4</th><th scope=col>Q4.5</th><th scope=col>Q7.2</th><th scope=col>Q7.3</th><th scope=col>Q13.1</th><th scope=col>Q13.2</th><th scope=col>Q13.3</th><th scope=col>Q13.4</th><th scope=col>Q13.5</th></tr>\n",
              "\t<tr><th></th><th scope=col>&lt;chr&gt;</th><th scope=col>&lt;chr&gt;</th><th scope=col>&lt;chr&gt;</th><th scope=col>&lt;chr&gt;</th><th scope=col>&lt;chr&gt;</th><th scope=col>&lt;chr&gt;</th><th scope=col>&lt;chr&gt;</th><th scope=col>&lt;chr&gt;</th><th scope=col>&lt;chr&gt;</th><th scope=col>&lt;chr&gt;</th><th scope=col>&lt;chr&gt;</th><th scope=col>&lt;chr&gt;</th></tr>\n",
              "</thead>\n",
              "<tbody>\n",
              "\t<tr><th scope=row>19</th><td>Female</td><td>18-24</td><td>Student</td><td>Tourism          </td><td>1 - 5 years</td><td>                      </td><td></td><td>Somewhat disagree</td><td>Somewhat agree            </td><td>Somewhat disagree</td><td>Strongly agree</td><td>Somewhat disagree         </td></tr>\n",
              "\t<tr><th scope=row>20</th><td>Female</td><td>18-24</td><td>Student</td><td>Media            </td><td>1 - 5 years</td><td>Social Media platforms</td><td></td><td>Strongly disagree</td><td>Somewhat agree            </td><td>Strongly disagree</td><td>Somewhat agree</td><td>Strongly disagree         </td></tr>\n",
              "\t<tr><th scope=row>22</th><td>Female</td><td>18-24</td><td>Student</td><td>Tourism          </td><td>1 - 5 years</td><td>                      </td><td></td><td>Strongly disagree</td><td>Somewhat agree            </td><td>Strongly disagree</td><td>Somewhat agree</td><td>Neither agree nor disagree</td></tr>\n",
              "\t<tr><th scope=row>23</th><td>Male  </td><td>25-34</td><td>Student</td><td>Logistics        </td><td>1 - 5 years</td><td>                      </td><td></td><td>Somewhat disagree</td><td>Somewhat agree            </td><td>Strongly disagree</td><td>Somewhat agree</td><td>Strongly disagree         </td></tr>\n",
              "\t<tr><th scope=row>24</th><td>Male  </td><td>25-34</td><td>Student</td><td>Built Environment</td><td>1 - 5 years</td><td>                      </td><td></td><td>Somewhat disagree</td><td>Neither agree nor disagree</td><td>Strongly disagree</td><td>Somewhat agree</td><td>Strongly disagree         </td></tr>\n",
              "\t<tr><th scope=row>25</th><td>Male  </td><td>25-34</td><td>Student</td><td>Media            </td><td>1 - 5 years</td><td>Marketing             </td><td></td><td>Somewhat agree   </td><td>Strongly agree            </td><td>Somewhat disagree</td><td>Strongly agree</td><td>Neither agree nor disagree</td></tr>\n",
              "</tbody>\n",
              "</table>\n"
            ],
            "text/markdown": "\nA data.frame: 6 × 12\n\n| <!--/--> | Q4.1 &lt;chr&gt; | Q4.2 &lt;chr&gt; | Q4.3 &lt;chr&gt; | Q4.4 &lt;chr&gt; | Q4.5 &lt;chr&gt; | Q7.2 &lt;chr&gt; | Q7.3 &lt;chr&gt; | Q13.1 &lt;chr&gt; | Q13.2 &lt;chr&gt; | Q13.3 &lt;chr&gt; | Q13.4 &lt;chr&gt; | Q13.5 &lt;chr&gt; |\n|---|---|---|---|---|---|---|---|---|---|---|---|---|\n| 19 | Female | 18-24 | Student | Tourism           | 1 - 5 years | <!----> | <!----> | Somewhat disagree | Somewhat agree             | Somewhat disagree | Strongly agree | Somewhat disagree          |\n| 20 | Female | 18-24 | Student | Media             | 1 - 5 years | Social Media platforms | <!----> | Strongly disagree | Somewhat agree             | Strongly disagree | Somewhat agree | Strongly disagree          |\n| 22 | Female | 18-24 | Student | Tourism           | 1 - 5 years | <!----> | <!----> | Strongly disagree | Somewhat agree             | Strongly disagree | Somewhat agree | Neither agree nor disagree |\n| 23 | Male   | 25-34 | Student | Logistics         | 1 - 5 years | <!----> | <!----> | Somewhat disagree | Somewhat agree             | Strongly disagree | Somewhat agree | Strongly disagree          |\n| 24 | Male   | 25-34 | Student | Built Environment | 1 - 5 years | <!----> | <!----> | Somewhat disagree | Neither agree nor disagree | Strongly disagree | Somewhat agree | Strongly disagree          |\n| 25 | Male   | 25-34 | Student | Media             | 1 - 5 years | Marketing              | <!----> | Somewhat agree    | Strongly agree             | Somewhat disagree | Strongly agree | Neither agree nor disagree |\n\n",
            "text/latex": "A data.frame: 6 × 12\n\\begin{tabular}{r|llllllllllll}\n  & Q4.1 & Q4.2 & Q4.3 & Q4.4 & Q4.5 & Q7.2 & Q7.3 & Q13.1 & Q13.2 & Q13.3 & Q13.4 & Q13.5\\\\\n  & <chr> & <chr> & <chr> & <chr> & <chr> & <chr> & <chr> & <chr> & <chr> & <chr> & <chr> & <chr>\\\\\n\\hline\n\t19 & Female & 18-24 & Student & Tourism           & 1 - 5 years &                        &  & Somewhat disagree & Somewhat agree             & Somewhat disagree & Strongly agree & Somewhat disagree         \\\\\n\t20 & Female & 18-24 & Student & Media             & 1 - 5 years & Social Media platforms &  & Strongly disagree & Somewhat agree             & Strongly disagree & Somewhat agree & Strongly disagree         \\\\\n\t22 & Female & 18-24 & Student & Tourism           & 1 - 5 years &                        &  & Strongly disagree & Somewhat agree             & Strongly disagree & Somewhat agree & Neither agree nor disagree\\\\\n\t23 & Male   & 25-34 & Student & Logistics         & 1 - 5 years &                        &  & Somewhat disagree & Somewhat agree             & Strongly disagree & Somewhat agree & Strongly disagree         \\\\\n\t24 & Male   & 25-34 & Student & Built Environment & 1 - 5 years &                        &  & Somewhat disagree & Neither agree nor disagree & Strongly disagree & Somewhat agree & Strongly disagree         \\\\\n\t25 & Male   & 25-34 & Student & Media             & 1 - 5 years & Marketing              &  & Somewhat agree    & Strongly agree             & Somewhat disagree & Strongly agree & Neither agree nor disagree\\\\\n\\end{tabular}\n",
            "text/plain": [
              "   Q4.1   Q4.2  Q4.3    Q4.4              Q4.5        Q7.2                  \n",
              "19 Female 18-24 Student Tourism           1 - 5 years                       \n",
              "20 Female 18-24 Student Media             1 - 5 years Social Media platforms\n",
              "22 Female 18-24 Student Tourism           1 - 5 years                       \n",
              "23 Male   25-34 Student Logistics         1 - 5 years                       \n",
              "24 Male   25-34 Student Built Environment 1 - 5 years                       \n",
              "25 Male   25-34 Student Media             1 - 5 years Marketing             \n",
              "   Q7.3 Q13.1             Q13.2                      Q13.3            \n",
              "19      Somewhat disagree Somewhat agree             Somewhat disagree\n",
              "20      Strongly disagree Somewhat agree             Strongly disagree\n",
              "22      Strongly disagree Somewhat agree             Strongly disagree\n",
              "23      Somewhat disagree Somewhat agree             Strongly disagree\n",
              "24      Somewhat disagree Neither agree nor disagree Strongly disagree\n",
              "25      Somewhat agree    Strongly agree             Somewhat disagree\n",
              "   Q13.4          Q13.5                     \n",
              "19 Strongly agree Somewhat disagree         \n",
              "20 Somewhat agree Strongly disagree         \n",
              "22 Somewhat agree Neither agree nor disagree\n",
              "23 Somewhat agree Strongly disagree         \n",
              "24 Somewhat agree Strongly disagree         \n",
              "25 Strongly agree Neither agree nor disagree"
            ]
          },
          "metadata": {}
        }
      ]
    },
    {
      "cell_type": "code",
      "source": [
        "#Only media students/staff\n",
        "media <- important_colm %>%\n",
        "filter(Q4.4 == \"Media\")\n",
        "media"
      ],
      "metadata": {
        "colab": {
          "base_uri": "https://localhost:8080/",
          "height": 1000
        },
        "id": "R8wVRcshWXWk",
        "outputId": "588d8d55-4d1f-46dc-e3d3-ce3c71e5a5e0"
      },
      "execution_count": 164,
      "outputs": [
        {
          "output_type": "display_data",
          "data": {
            "text/html": [
              "<table class=\"dataframe\">\n",
              "<caption>A data.frame: 39 × 12</caption>\n",
              "<thead>\n",
              "\t<tr><th scope=col>Q4.1</th><th scope=col>Q4.2</th><th scope=col>Q4.3</th><th scope=col>Q4.4</th><th scope=col>Q4.5</th><th scope=col>Q7.2</th><th scope=col>Q7.3</th><th scope=col>Q13.1</th><th scope=col>Q13.2</th><th scope=col>Q13.3</th><th scope=col>Q13.4</th><th scope=col>Q13.5</th></tr>\n",
              "\t<tr><th scope=col>&lt;chr&gt;</th><th scope=col>&lt;chr&gt;</th><th scope=col>&lt;chr&gt;</th><th scope=col>&lt;chr&gt;</th><th scope=col>&lt;chr&gt;</th><th scope=col>&lt;chr&gt;</th><th scope=col>&lt;chr&gt;</th><th scope=col>&lt;chr&gt;</th><th scope=col>&lt;chr&gt;</th><th scope=col>&lt;chr&gt;</th><th scope=col>&lt;chr&gt;</th><th scope=col>&lt;chr&gt;</th></tr>\n",
              "</thead>\n",
              "<tbody>\n",
              "\t<tr><td>Female                   </td><td>18-24</td><td>Student</td><td>Media</td><td>1 - 5 years</td><td>Social Media platforms         </td><td>                 </td><td>Strongly disagree         </td><td>Somewhat agree            </td><td>Strongly disagree         </td><td>Somewhat agree            </td><td>Strongly disagree         </td></tr>\n",
              "\t<tr><td>Male                     </td><td>25-34</td><td>Student</td><td>Media</td><td>1 - 5 years</td><td>Marketing                      </td><td>                 </td><td>Somewhat agree            </td><td>Strongly agree            </td><td>Somewhat disagree         </td><td>Strongly agree            </td><td>Neither agree nor disagree</td></tr>\n",
              "\t<tr><td>Female                   </td><td>18-24</td><td>Student</td><td>Media</td><td>1 - 5 years</td><td>Social Media platforms         </td><td>                 </td><td>Somewhat disagree         </td><td>Strongly agree            </td><td>Strongly disagree         </td><td>Strongly agree            </td><td>Strongly disagree         </td></tr>\n",
              "\t<tr><td>Female                   </td><td>18-24</td><td>Student</td><td>Media</td><td>1 - 5 years</td><td>Social Media platforms         </td><td>                 </td><td>Neither agree nor disagree</td><td>Neither agree nor disagree</td><td>Strongly agree            </td><td>Somewhat disagree         </td><td>Neither agree nor disagree</td></tr>\n",
              "\t<tr><td>Female                   </td><td>18-24</td><td>Student</td><td>Media</td><td>1 - 5 years</td><td>Social Media platforms         </td><td>                 </td><td>Somewhat disagree         </td><td>Somewhat agree            </td><td>Strongly disagree         </td><td>Strongly disagree         </td><td>Somewhat disagree         </td></tr>\n",
              "\t<tr><td>Male                     </td><td>18-24</td><td>Student</td><td>Media</td><td>1 - 5 years</td><td>Marketing                      </td><td>                 </td><td>Somewhat agree            </td><td>Somewhat agree            </td><td>Somewhat disagree         </td><td>Strongly agree            </td><td>Neither agree nor disagree</td></tr>\n",
              "\t<tr><td>Male                     </td><td>18-24</td><td>Student</td><td>Media</td><td>1 - 5 years</td><td>Marketing                      </td><td>                 </td><td>Neither agree nor disagree</td><td>Somewhat disagree         </td><td>Somewhat agree            </td><td>Strongly agree            </td><td>Somewhat agree            </td></tr>\n",
              "\t<tr><td><span style=white-space:pre-wrap>Male                     </span></td><td>18-24</td><td>Student</td><td>Media</td><td><span style=white-space:pre-wrap>&lt; 1 year   </span></td><td><span style=white-space:pre-wrap>Social Media platforms         </span></td><td><span style=white-space:pre-wrap>                 </span></td><td><span style=white-space:pre-wrap>Somewhat disagree         </span></td><td><span style=white-space:pre-wrap>Strongly agree            </span></td><td><span style=white-space:pre-wrap>Strongly disagree         </span></td><td><span style=white-space:pre-wrap>Somewhat agree            </span></td><td><span style=white-space:pre-wrap>Strongly disagree         </span></td></tr>\n",
              "\t<tr><td>Female                   </td><td>18-24</td><td>Student</td><td>Media</td><td>1 - 5 years</td><td>Social Media platforms         </td><td>                 </td><td>Strongly disagree         </td><td>Somewhat agree            </td><td>Neither agree nor disagree</td><td>Somewhat agree            </td><td>Strongly disagree         </td></tr>\n",
              "\t<tr><td>Male                     </td><td>18-24</td><td>Student</td><td>Media</td><td>1 - 5 years</td><td>Marketing                      </td><td>                 </td><td>Neither agree nor disagree</td><td>Somewhat agree            </td><td>Strongly agree            </td><td>Strongly agree            </td><td>Somewhat disagree         </td></tr>\n",
              "\t<tr><td><span style=white-space:pre-wrap>Male                     </span></td><td>18-24</td><td>Student</td><td>Media</td><td>1 - 5 years</td><td>Art, Entertainment &amp; Recreation</td><td><span style=white-space:pre-wrap>                 </span></td><td><span style=white-space:pre-wrap>Somewhat disagree         </span></td><td><span style=white-space:pre-wrap>Somewhat agree            </span></td><td>Neither agree nor disagree</td><td><span style=white-space:pre-wrap>Somewhat agree            </span></td><td><span style=white-space:pre-wrap>Somewhat disagree         </span></td></tr>\n",
              "\t<tr><td><span style=white-space:pre-wrap>Male                     </span></td><td>&lt; 18 </td><td>Student</td><td>Media</td><td><span style=white-space:pre-wrap>&lt; 1 year   </span></td><td><span style=white-space:pre-wrap>Marketing                      </span></td><td><span style=white-space:pre-wrap>                 </span></td><td>Neither agree nor disagree</td><td><span style=white-space:pre-wrap>Somewhat agree            </span></td><td><span style=white-space:pre-wrap>Strongly disagree         </span></td><td>Neither agree nor disagree</td><td><span style=white-space:pre-wrap>Strongly disagree         </span></td></tr>\n",
              "\t<tr><td><span style=white-space:pre-wrap>Male                     </span></td><td>18-24</td><td>Student</td><td>Media</td><td><span style=white-space:pre-wrap>&lt; 1 year   </span></td><td><span style=white-space:pre-wrap>Social Media platforms         </span></td><td><span style=white-space:pre-wrap>                 </span></td><td><span style=white-space:pre-wrap>Somewhat agree            </span></td><td><span style=white-space:pre-wrap>Strongly agree            </span></td><td><span style=white-space:pre-wrap>Strongly disagree         </span></td><td><span style=white-space:pre-wrap>Strongly agree            </span></td><td><span style=white-space:pre-wrap>Strongly agree            </span></td></tr>\n",
              "\t<tr><td><span style=white-space:pre-wrap>Female                   </span></td><td>&lt; 18 </td><td>Student</td><td>Media</td><td><span style=white-space:pre-wrap>&lt; 1 year   </span></td><td><span style=white-space:pre-wrap>Marketing                      </span></td><td><span style=white-space:pre-wrap>                 </span></td><td><span style=white-space:pre-wrap>Somewhat disagree         </span></td><td>Neither agree nor disagree</td><td><span style=white-space:pre-wrap>Somewhat disagree         </span></td><td><span style=white-space:pre-wrap>Somewhat agree            </span></td><td><span style=white-space:pre-wrap>Somewhat agree            </span></td></tr>\n",
              "\t<tr><td><span style=white-space:pre-wrap>Female                   </span></td><td>18-24</td><td>Student</td><td>Media</td><td><span style=white-space:pre-wrap>&lt; 1 year   </span></td><td><span style=white-space:pre-wrap>Social Media platforms         </span></td><td><span style=white-space:pre-wrap>                 </span></td><td><span style=white-space:pre-wrap>Somewhat disagree         </span></td><td>Neither agree nor disagree</td><td><span style=white-space:pre-wrap>Strongly disagree         </span></td><td><span style=white-space:pre-wrap>Strongly agree            </span></td><td>Neither agree nor disagree</td></tr>\n",
              "\t<tr><td><span style=white-space:pre-wrap>Male                     </span></td><td>18-24</td><td>Student</td><td>Media</td><td><span style=white-space:pre-wrap>&lt; 1 year   </span></td><td><span style=white-space:pre-wrap>Marketing                      </span></td><td><span style=white-space:pre-wrap>                 </span></td><td>Neither agree nor disagree</td><td><span style=white-space:pre-wrap>Somewhat agree            </span></td><td><span style=white-space:pre-wrap>Strongly disagree         </span></td><td><span style=white-space:pre-wrap>Strongly agree            </span></td><td><span style=white-space:pre-wrap>Strongly disagree         </span></td></tr>\n",
              "\t<tr><td><span style=white-space:pre-wrap>Female                   </span></td><td>18-24</td><td>Student</td><td>Media</td><td><span style=white-space:pre-wrap>&lt; 1 year   </span></td><td><span style=white-space:pre-wrap>Marketing                      </span></td><td><span style=white-space:pre-wrap>                 </span></td><td><span style=white-space:pre-wrap>Strongly disagree         </span></td><td>Neither agree nor disagree</td><td><span style=white-space:pre-wrap>Strongly agree            </span></td><td><span style=white-space:pre-wrap>Somewhat agree            </span></td><td>Neither agree nor disagree</td></tr>\n",
              "\t<tr><td><span style=white-space:pre-wrap>Female                   </span></td><td>18-24</td><td>Student</td><td>Media</td><td>1 - 5 years</td><td>Art, Entertainment &amp; Recreation</td><td><span style=white-space:pre-wrap>                 </span></td><td><span style=white-space:pre-wrap>Somewhat disagree         </span></td><td><span style=white-space:pre-wrap>Somewhat agree            </span></td><td><span style=white-space:pre-wrap>Somewhat disagree         </span></td><td>Neither agree nor disagree</td><td>Neither agree nor disagree</td></tr>\n",
              "\t<tr><td><span style=white-space:pre-wrap>Female                   </span></td><td>18-24</td><td>Student</td><td>Media</td><td><span style=white-space:pre-wrap>&lt; 1 year   </span></td><td><span style=white-space:pre-wrap>Social Media platforms         </span></td><td><span style=white-space:pre-wrap>                 </span></td><td><span style=white-space:pre-wrap>Strongly disagree         </span></td><td>Neither agree nor disagree</td><td><span style=white-space:pre-wrap>Strongly disagree         </span></td><td><span style=white-space:pre-wrap>Somewhat agree            </span></td><td><span style=white-space:pre-wrap>Somewhat disagree         </span></td></tr>\n",
              "\t<tr><td><span style=white-space:pre-wrap>Female                   </span></td><td>18-24</td><td>Student</td><td>Media</td><td><span style=white-space:pre-wrap>&lt; 1 year   </span></td><td><span style=white-space:pre-wrap>Marketing                      </span></td><td><span style=white-space:pre-wrap>                 </span></td><td><span style=white-space:pre-wrap>Somewhat disagree         </span></td><td>Neither agree nor disagree</td><td><span style=white-space:pre-wrap>Strongly disagree         </span></td><td><span style=white-space:pre-wrap>Somewhat disagree         </span></td><td><span style=white-space:pre-wrap>Somewhat disagree         </span></td></tr>\n",
              "\t<tr><td><span style=white-space:pre-wrap>Male                     </span></td><td>18-24</td><td>Student</td><td>Media</td><td><span style=white-space:pre-wrap>&lt; 1 year   </span></td><td><span style=white-space:pre-wrap>Social Media platforms         </span></td><td><span style=white-space:pre-wrap>                 </span></td><td><span style=white-space:pre-wrap>Strongly disagree         </span></td><td>Neither agree nor disagree</td><td><span style=white-space:pre-wrap>Strongly disagree         </span></td><td><span style=white-space:pre-wrap>Somewhat agree            </span></td><td>Neither agree nor disagree</td></tr>\n",
              "\t<tr><td><span style=white-space:pre-wrap>Female                   </span></td><td>&lt; 18 </td><td>Student</td><td>Media</td><td><span style=white-space:pre-wrap>&lt; 1 year   </span></td><td><span style=white-space:pre-wrap>Social Media platforms         </span></td><td><span style=white-space:pre-wrap>                 </span></td><td><span style=white-space:pre-wrap>Somewhat disagree         </span></td><td><span style=white-space:pre-wrap>Strongly agree            </span></td><td><span style=white-space:pre-wrap>Somewhat disagree         </span></td><td><span style=white-space:pre-wrap>Strongly agree            </span></td><td><span style=white-space:pre-wrap>Somewhat disagree         </span></td></tr>\n",
              "\t<tr><td><span style=white-space:pre-wrap>Female                   </span></td><td>18-24</td><td>Student</td><td>Media</td><td><span style=white-space:pre-wrap>&lt; 1 year   </span></td><td><span style=white-space:pre-wrap>Social Media platforms         </span></td><td><span style=white-space:pre-wrap>                 </span></td><td><span style=white-space:pre-wrap>Strongly disagree         </span></td><td><span style=white-space:pre-wrap>Somewhat agree            </span></td><td><span style=white-space:pre-wrap>Strongly disagree         </span></td><td><span style=white-space:pre-wrap>Strongly agree            </span></td><td><span style=white-space:pre-wrap>Strongly disagree         </span></td></tr>\n",
              "\t<tr><td><span style=white-space:pre-wrap>Male                     </span></td><td>18-24</td><td>Student</td><td>Media</td><td>1 - 5 years</td><td>Art, Entertainment &amp; Recreation</td><td><span style=white-space:pre-wrap>                 </span></td><td>Neither agree nor disagree</td><td><span style=white-space:pre-wrap>Somewhat disagree         </span></td><td><span style=white-space:pre-wrap>Somewhat disagree         </span></td><td><span style=white-space:pre-wrap>Somewhat agree            </span></td><td><span style=white-space:pre-wrap>Somewhat agree            </span></td></tr>\n",
              "\t<tr><td><span style=white-space:pre-wrap>Female                   </span></td><td>18-24</td><td>Student</td><td>Media</td><td><span style=white-space:pre-wrap>&lt; 1 year   </span></td><td>Art, Entertainment &amp; Recreation</td><td><span style=white-space:pre-wrap>                 </span></td><td><span style=white-space:pre-wrap>Strongly disagree         </span></td><td><span style=white-space:pre-wrap>Somewhat agree            </span></td><td><span style=white-space:pre-wrap>Strongly disagree         </span></td><td><span style=white-space:pre-wrap>Somewhat agree            </span></td><td><span style=white-space:pre-wrap>Strongly disagree         </span></td></tr>\n",
              "\t<tr><td>Female                   </td><td>18-24</td><td>Student</td><td>Media</td><td>1 - 5 years</td><td>Marketing                      </td><td>                 </td><td>Strongly disagree         </td><td>Somewhat agree            </td><td>Strongly disagree         </td><td>Strongly agree            </td><td>Somewhat agree            </td></tr>\n",
              "\t<tr><td>Female                   </td><td>18-24</td><td>Student</td><td>Media</td><td>1 - 5 years</td><td>Marketing                      </td><td>                 </td><td>Somewhat disagree         </td><td>Neither agree nor disagree</td><td>Strongly disagree         </td><td>Neither agree nor disagree</td><td>Somewhat disagree         </td></tr>\n",
              "\t<tr><td><span style=white-space:pre-wrap>Female                   </span></td><td>18-24</td><td>Student</td><td>Media</td><td>1 - 5 years</td><td>Art, Entertainment &amp; Recreation</td><td><span style=white-space:pre-wrap>                 </span></td><td><span style=white-space:pre-wrap>Somewhat agree            </span></td><td><span style=white-space:pre-wrap>Strongly agree            </span></td><td><span style=white-space:pre-wrap>Strongly disagree         </span></td><td><span style=white-space:pre-wrap>Somewhat agree            </span></td><td><span style=white-space:pre-wrap>Strongly agree            </span></td></tr>\n",
              "\t<tr><td>Male                     </td><td>18-24</td><td>Staff  </td><td>Media</td><td>1 - 5 years</td><td>Social Media platforms         </td><td>Strongly disagree</td><td>                          </td><td>                          </td><td>                          </td><td>                          </td><td>                          </td></tr>\n",
              "\t<tr><td><span style=white-space:pre-wrap>Female                   </span></td><td>18-24</td><td>Student</td><td>Media</td><td>1 - 5 years</td><td>Art, Entertainment &amp; Recreation</td><td><span style=white-space:pre-wrap>                 </span></td><td><span style=white-space:pre-wrap>Somewhat disagree         </span></td><td><span style=white-space:pre-wrap>Somewhat agree            </span></td><td><span style=white-space:pre-wrap>Strongly disagree         </span></td><td>Neither agree nor disagree</td><td><span style=white-space:pre-wrap>Strongly disagree         </span></td></tr>\n",
              "\t<tr><td><span style=white-space:pre-wrap>Female                   </span></td><td>18-24</td><td>Student</td><td>Media</td><td><span style=white-space:pre-wrap>&lt; 1 year   </span></td><td><span style=white-space:pre-wrap>Social Media platforms         </span></td><td><span style=white-space:pre-wrap>                 </span></td><td>Neither agree nor disagree</td><td><span style=white-space:pre-wrap>Somewhat agree            </span></td><td>Neither agree nor disagree</td><td><span style=white-space:pre-wrap>Somewhat disagree         </span></td><td><span style=white-space:pre-wrap>Somewhat agree            </span></td></tr>\n",
              "\t<tr><td>Female                   </td><td>18-24</td><td>Student</td><td>Media</td><td>1 - 5 years</td><td>Social Media platforms         </td><td>                 </td><td>Somewhat agree            </td><td>Somewhat disagree         </td><td>Strongly disagree         </td><td>Somewhat agree            </td><td>Neither agree nor disagree</td></tr>\n",
              "\t<tr><td><span style=white-space:pre-wrap>Female                   </span></td><td>18-24</td><td>Student</td><td>Media</td><td><span style=white-space:pre-wrap>&lt; 1 year   </span></td><td>Art, Entertainment &amp; Recreation</td><td><span style=white-space:pre-wrap>                 </span></td><td>Neither agree nor disagree</td><td><span style=white-space:pre-wrap>Somewhat agree            </span></td><td>Neither agree nor disagree</td><td><span style=white-space:pre-wrap>Somewhat agree            </span></td><td><span style=white-space:pre-wrap>Somewhat disagree         </span></td></tr>\n",
              "\t<tr><td><span style=white-space:pre-wrap>Male                     </span></td><td>18-24</td><td>Student</td><td>Media</td><td><span style=white-space:pre-wrap>&lt; 1 year   </span></td><td><span style=white-space:pre-wrap>Social Media platforms         </span></td><td><span style=white-space:pre-wrap>                 </span></td><td>Neither agree nor disagree</td><td><span style=white-space:pre-wrap>Strongly agree            </span></td><td><span style=white-space:pre-wrap>Somewhat disagree         </span></td><td><span style=white-space:pre-wrap>Strongly agree            </span></td><td><span style=white-space:pre-wrap>Somewhat agree            </span></td></tr>\n",
              "\t<tr><td>Male                     </td><td>18-24</td><td>Student</td><td>Media</td><td>1 - 5 years</td><td>Social Media platforms         </td><td>                 </td><td>Somewhat agree            </td><td>Somewhat agree            </td><td>Strongly disagree         </td><td>Strongly agree            </td><td>Strongly disagree         </td></tr>\n",
              "\t<tr><td>Female                   </td><td>18-24</td><td>Student</td><td>Media</td><td>1 - 5 years</td><td>Social Media platforms         </td><td>                 </td><td>Strongly disagree         </td><td>Somewhat agree            </td><td>Strongly disagree         </td><td>Somewhat agree            </td><td>Strongly disagree         </td></tr>\n",
              "\t<tr><td>Female                   </td><td>18-24</td><td>Student</td><td>Media</td><td>1 - 5 years</td><td>Social Media platforms         </td><td>                 </td><td>Somewhat disagree         </td><td>Strongly agree            </td><td>Strongly disagree         </td><td>Strongly agree            </td><td>Neither agree nor disagree</td></tr>\n",
              "\t<tr><td><span style=white-space:pre-wrap>Female                   </span></td><td>&lt; 18 </td><td>Student</td><td>Media</td><td>1 - 5 years</td><td>Art, Entertainment &amp; Recreation</td><td><span style=white-space:pre-wrap>                 </span></td><td><span style=white-space:pre-wrap>Somewhat disagree         </span></td><td><span style=white-space:pre-wrap>Somewhat agree            </span></td><td><span style=white-space:pre-wrap>Somewhat disagree         </span></td><td>Neither agree nor disagree</td><td>Neither agree nor disagree</td></tr>\n",
              "\t<tr><td>Non-binary / third gender</td><td>18-24</td><td>Student</td><td>Media</td><td>1 - 5 years</td><td>Art, Entertainment &amp; Recreation</td><td><span style=white-space:pre-wrap>                 </span></td><td><span style=white-space:pre-wrap>Somewhat agree            </span></td><td><span style=white-space:pre-wrap>Somewhat agree            </span></td><td><span style=white-space:pre-wrap>Strongly disagree         </span></td><td><span style=white-space:pre-wrap>Strongly agree            </span></td><td><span style=white-space:pre-wrap>Somewhat disagree         </span></td></tr>\n",
              "</tbody>\n",
              "</table>\n"
            ],
            "text/markdown": "\nA data.frame: 39 × 12\n\n| Q4.1 &lt;chr&gt; | Q4.2 &lt;chr&gt; | Q4.3 &lt;chr&gt; | Q4.4 &lt;chr&gt; | Q4.5 &lt;chr&gt; | Q7.2 &lt;chr&gt; | Q7.3 &lt;chr&gt; | Q13.1 &lt;chr&gt; | Q13.2 &lt;chr&gt; | Q13.3 &lt;chr&gt; | Q13.4 &lt;chr&gt; | Q13.5 &lt;chr&gt; |\n|---|---|---|---|---|---|---|---|---|---|---|---|\n| Female                    | 18-24 | Student | Media | 1 - 5 years | Social Media platforms          | <!----> | Strongly disagree          | Somewhat agree             | Strongly disagree          | Somewhat agree             | Strongly disagree          |\n| Male                      | 25-34 | Student | Media | 1 - 5 years | Marketing                       | <!----> | Somewhat agree             | Strongly agree             | Somewhat disagree          | Strongly agree             | Neither agree nor disagree |\n| Female                    | 18-24 | Student | Media | 1 - 5 years | Social Media platforms          | <!----> | Somewhat disagree          | Strongly agree             | Strongly disagree          | Strongly agree             | Strongly disagree          |\n| Female                    | 18-24 | Student | Media | 1 - 5 years | Social Media platforms          | <!----> | Neither agree nor disagree | Neither agree nor disagree | Strongly agree             | Somewhat disagree          | Neither agree nor disagree |\n| Female                    | 18-24 | Student | Media | 1 - 5 years | Social Media platforms          | <!----> | Somewhat disagree          | Somewhat agree             | Strongly disagree          | Strongly disagree          | Somewhat disagree          |\n| Male                      | 18-24 | Student | Media | 1 - 5 years | Marketing                       | <!----> | Somewhat agree             | Somewhat agree             | Somewhat disagree          | Strongly agree             | Neither agree nor disagree |\n| Male                      | 18-24 | Student | Media | 1 - 5 years | Marketing                       | <!----> | Neither agree nor disagree | Somewhat disagree          | Somewhat agree             | Strongly agree             | Somewhat agree             |\n| Male                      | 18-24 | Student | Media | &lt; 1 year    | Social Media platforms          | <!----> | Somewhat disagree          | Strongly agree             | Strongly disagree          | Somewhat agree             | Strongly disagree          |\n| Female                    | 18-24 | Student | Media | 1 - 5 years | Social Media platforms          | <!----> | Strongly disagree          | Somewhat agree             | Neither agree nor disagree | Somewhat agree             | Strongly disagree          |\n| Male                      | 18-24 | Student | Media | 1 - 5 years | Marketing                       | <!----> | Neither agree nor disagree | Somewhat agree             | Strongly agree             | Strongly agree             | Somewhat disagree          |\n| Male                      | 18-24 | Student | Media | 1 - 5 years | Art, Entertainment &amp; Recreation | <!----> | Somewhat disagree          | Somewhat agree             | Neither agree nor disagree | Somewhat agree             | Somewhat disagree          |\n| Male                      | &lt; 18  | Student | Media | &lt; 1 year    | Marketing                       | <!----> | Neither agree nor disagree | Somewhat agree             | Strongly disagree          | Neither agree nor disagree | Strongly disagree          |\n| Male                      | 18-24 | Student | Media | &lt; 1 year    | Social Media platforms          | <!----> | Somewhat agree             | Strongly agree             | Strongly disagree          | Strongly agree             | Strongly agree             |\n| Female                    | &lt; 18  | Student | Media | &lt; 1 year    | Marketing                       | <!----> | Somewhat disagree          | Neither agree nor disagree | Somewhat disagree          | Somewhat agree             | Somewhat agree             |\n| Female                    | 18-24 | Student | Media | &lt; 1 year    | Social Media platforms          | <!----> | Somewhat disagree          | Neither agree nor disagree | Strongly disagree          | Strongly agree             | Neither agree nor disagree |\n| Male                      | 18-24 | Student | Media | &lt; 1 year    | Marketing                       | <!----> | Neither agree nor disagree | Somewhat agree             | Strongly disagree          | Strongly agree             | Strongly disagree          |\n| Female                    | 18-24 | Student | Media | &lt; 1 year    | Marketing                       | <!----> | Strongly disagree          | Neither agree nor disagree | Strongly agree             | Somewhat agree             | Neither agree nor disagree |\n| Female                    | 18-24 | Student | Media | 1 - 5 years | Art, Entertainment &amp; Recreation | <!----> | Somewhat disagree          | Somewhat agree             | Somewhat disagree          | Neither agree nor disagree | Neither agree nor disagree |\n| Female                    | 18-24 | Student | Media | &lt; 1 year    | Social Media platforms          | <!----> | Strongly disagree          | Neither agree nor disagree | Strongly disagree          | Somewhat agree             | Somewhat disagree          |\n| Female                    | 18-24 | Student | Media | &lt; 1 year    | Marketing                       | <!----> | Somewhat disagree          | Neither agree nor disagree | Strongly disagree          | Somewhat disagree          | Somewhat disagree          |\n| Male                      | 18-24 | Student | Media | &lt; 1 year    | Social Media platforms          | <!----> | Strongly disagree          | Neither agree nor disagree | Strongly disagree          | Somewhat agree             | Neither agree nor disagree |\n| Female                    | &lt; 18  | Student | Media | &lt; 1 year    | Social Media platforms          | <!----> | Somewhat disagree          | Strongly agree             | Somewhat disagree          | Strongly agree             | Somewhat disagree          |\n| Female                    | 18-24 | Student | Media | &lt; 1 year    | Social Media platforms          | <!----> | Strongly disagree          | Somewhat agree             | Strongly disagree          | Strongly agree             | Strongly disagree          |\n| Male                      | 18-24 | Student | Media | 1 - 5 years | Art, Entertainment &amp; Recreation | <!----> | Neither agree nor disagree | Somewhat disagree          | Somewhat disagree          | Somewhat agree             | Somewhat agree             |\n| Female                    | 18-24 | Student | Media | &lt; 1 year    | Art, Entertainment &amp; Recreation | <!----> | Strongly disagree          | Somewhat agree             | Strongly disagree          | Somewhat agree             | Strongly disagree          |\n| Female                    | 18-24 | Student | Media | 1 - 5 years | Marketing                       | <!----> | Strongly disagree          | Somewhat agree             | Strongly disagree          | Strongly agree             | Somewhat agree             |\n| Female                    | 18-24 | Student | Media | 1 - 5 years | Marketing                       | <!----> | Somewhat disagree          | Neither agree nor disagree | Strongly disagree          | Neither agree nor disagree | Somewhat disagree          |\n| Female                    | 18-24 | Student | Media | 1 - 5 years | Art, Entertainment &amp; Recreation | <!----> | Somewhat agree             | Strongly agree             | Strongly disagree          | Somewhat agree             | Strongly agree             |\n| Male                      | 18-24 | Staff   | Media | 1 - 5 years | Social Media platforms          | Strongly disagree | <!----> | <!----> | <!----> | <!----> | <!----> |\n| Female                    | 18-24 | Student | Media | 1 - 5 years | Art, Entertainment &amp; Recreation | <!----> | Somewhat disagree          | Somewhat agree             | Strongly disagree          | Neither agree nor disagree | Strongly disagree          |\n| Female                    | 18-24 | Student | Media | &lt; 1 year    | Social Media platforms          | <!----> | Neither agree nor disagree | Somewhat agree             | Neither agree nor disagree | Somewhat disagree          | Somewhat agree             |\n| Female                    | 18-24 | Student | Media | 1 - 5 years | Social Media platforms          | <!----> | Somewhat agree             | Somewhat disagree          | Strongly disagree          | Somewhat agree             | Neither agree nor disagree |\n| Female                    | 18-24 | Student | Media | &lt; 1 year    | Art, Entertainment &amp; Recreation | <!----> | Neither agree nor disagree | Somewhat agree             | Neither agree nor disagree | Somewhat agree             | Somewhat disagree          |\n| Male                      | 18-24 | Student | Media | &lt; 1 year    | Social Media platforms          | <!----> | Neither agree nor disagree | Strongly agree             | Somewhat disagree          | Strongly agree             | Somewhat agree             |\n| Male                      | 18-24 | Student | Media | 1 - 5 years | Social Media platforms          | <!----> | Somewhat agree             | Somewhat agree             | Strongly disagree          | Strongly agree             | Strongly disagree          |\n| Female                    | 18-24 | Student | Media | 1 - 5 years | Social Media platforms          | <!----> | Strongly disagree          | Somewhat agree             | Strongly disagree          | Somewhat agree             | Strongly disagree          |\n| Female                    | 18-24 | Student | Media | 1 - 5 years | Social Media platforms          | <!----> | Somewhat disagree          | Strongly agree             | Strongly disagree          | Strongly agree             | Neither agree nor disagree |\n| Female                    | &lt; 18  | Student | Media | 1 - 5 years | Art, Entertainment &amp; Recreation | <!----> | Somewhat disagree          | Somewhat agree             | Somewhat disagree          | Neither agree nor disagree | Neither agree nor disagree |\n| Non-binary / third gender | 18-24 | Student | Media | 1 - 5 years | Art, Entertainment &amp; Recreation | <!----> | Somewhat agree             | Somewhat agree             | Strongly disagree          | Strongly agree             | Somewhat disagree          |\n\n",
            "text/latex": "A data.frame: 39 × 12\n\\begin{tabular}{llllllllllll}\n Q4.1 & Q4.2 & Q4.3 & Q4.4 & Q4.5 & Q7.2 & Q7.3 & Q13.1 & Q13.2 & Q13.3 & Q13.4 & Q13.5\\\\\n <chr> & <chr> & <chr> & <chr> & <chr> & <chr> & <chr> & <chr> & <chr> & <chr> & <chr> & <chr>\\\\\n\\hline\n\t Female                    & 18-24 & Student & Media & 1 - 5 years & Social Media platforms          &                   & Strongly disagree          & Somewhat agree             & Strongly disagree          & Somewhat agree             & Strongly disagree         \\\\\n\t Male                      & 25-34 & Student & Media & 1 - 5 years & Marketing                       &                   & Somewhat agree             & Strongly agree             & Somewhat disagree          & Strongly agree             & Neither agree nor disagree\\\\\n\t Female                    & 18-24 & Student & Media & 1 - 5 years & Social Media platforms          &                   & Somewhat disagree          & Strongly agree             & Strongly disagree          & Strongly agree             & Strongly disagree         \\\\\n\t Female                    & 18-24 & Student & Media & 1 - 5 years & Social Media platforms          &                   & Neither agree nor disagree & Neither agree nor disagree & Strongly agree             & Somewhat disagree          & Neither agree nor disagree\\\\\n\t Female                    & 18-24 & Student & Media & 1 - 5 years & Social Media platforms          &                   & Somewhat disagree          & Somewhat agree             & Strongly disagree          & Strongly disagree          & Somewhat disagree         \\\\\n\t Male                      & 18-24 & Student & Media & 1 - 5 years & Marketing                       &                   & Somewhat agree             & Somewhat agree             & Somewhat disagree          & Strongly agree             & Neither agree nor disagree\\\\\n\t Male                      & 18-24 & Student & Media & 1 - 5 years & Marketing                       &                   & Neither agree nor disagree & Somewhat disagree          & Somewhat agree             & Strongly agree             & Somewhat agree            \\\\\n\t Male                      & 18-24 & Student & Media & < 1 year    & Social Media platforms          &                   & Somewhat disagree          & Strongly agree             & Strongly disagree          & Somewhat agree             & Strongly disagree         \\\\\n\t Female                    & 18-24 & Student & Media & 1 - 5 years & Social Media platforms          &                   & Strongly disagree          & Somewhat agree             & Neither agree nor disagree & Somewhat agree             & Strongly disagree         \\\\\n\t Male                      & 18-24 & Student & Media & 1 - 5 years & Marketing                       &                   & Neither agree nor disagree & Somewhat agree             & Strongly agree             & Strongly agree             & Somewhat disagree         \\\\\n\t Male                      & 18-24 & Student & Media & 1 - 5 years & Art, Entertainment \\& Recreation &                   & Somewhat disagree          & Somewhat agree             & Neither agree nor disagree & Somewhat agree             & Somewhat disagree         \\\\\n\t Male                      & < 18  & Student & Media & < 1 year    & Marketing                       &                   & Neither agree nor disagree & Somewhat agree             & Strongly disagree          & Neither agree nor disagree & Strongly disagree         \\\\\n\t Male                      & 18-24 & Student & Media & < 1 year    & Social Media platforms          &                   & Somewhat agree             & Strongly agree             & Strongly disagree          & Strongly agree             & Strongly agree            \\\\\n\t Female                    & < 18  & Student & Media & < 1 year    & Marketing                       &                   & Somewhat disagree          & Neither agree nor disagree & Somewhat disagree          & Somewhat agree             & Somewhat agree            \\\\\n\t Female                    & 18-24 & Student & Media & < 1 year    & Social Media platforms          &                   & Somewhat disagree          & Neither agree nor disagree & Strongly disagree          & Strongly agree             & Neither agree nor disagree\\\\\n\t Male                      & 18-24 & Student & Media & < 1 year    & Marketing                       &                   & Neither agree nor disagree & Somewhat agree             & Strongly disagree          & Strongly agree             & Strongly disagree         \\\\\n\t Female                    & 18-24 & Student & Media & < 1 year    & Marketing                       &                   & Strongly disagree          & Neither agree nor disagree & Strongly agree             & Somewhat agree             & Neither agree nor disagree\\\\\n\t Female                    & 18-24 & Student & Media & 1 - 5 years & Art, Entertainment \\& Recreation &                   & Somewhat disagree          & Somewhat agree             & Somewhat disagree          & Neither agree nor disagree & Neither agree nor disagree\\\\\n\t Female                    & 18-24 & Student & Media & < 1 year    & Social Media platforms          &                   & Strongly disagree          & Neither agree nor disagree & Strongly disagree          & Somewhat agree             & Somewhat disagree         \\\\\n\t Female                    & 18-24 & Student & Media & < 1 year    & Marketing                       &                   & Somewhat disagree          & Neither agree nor disagree & Strongly disagree          & Somewhat disagree          & Somewhat disagree         \\\\\n\t Male                      & 18-24 & Student & Media & < 1 year    & Social Media platforms          &                   & Strongly disagree          & Neither agree nor disagree & Strongly disagree          & Somewhat agree             & Neither agree nor disagree\\\\\n\t Female                    & < 18  & Student & Media & < 1 year    & Social Media platforms          &                   & Somewhat disagree          & Strongly agree             & Somewhat disagree          & Strongly agree             & Somewhat disagree         \\\\\n\t Female                    & 18-24 & Student & Media & < 1 year    & Social Media platforms          &                   & Strongly disagree          & Somewhat agree             & Strongly disagree          & Strongly agree             & Strongly disagree         \\\\\n\t Male                      & 18-24 & Student & Media & 1 - 5 years & Art, Entertainment \\& Recreation &                   & Neither agree nor disagree & Somewhat disagree          & Somewhat disagree          & Somewhat agree             & Somewhat agree            \\\\\n\t Female                    & 18-24 & Student & Media & < 1 year    & Art, Entertainment \\& Recreation &                   & Strongly disagree          & Somewhat agree             & Strongly disagree          & Somewhat agree             & Strongly disagree         \\\\\n\t Female                    & 18-24 & Student & Media & 1 - 5 years & Marketing                       &                   & Strongly disagree          & Somewhat agree             & Strongly disagree          & Strongly agree             & Somewhat agree            \\\\\n\t Female                    & 18-24 & Student & Media & 1 - 5 years & Marketing                       &                   & Somewhat disagree          & Neither agree nor disagree & Strongly disagree          & Neither agree nor disagree & Somewhat disagree         \\\\\n\t Female                    & 18-24 & Student & Media & 1 - 5 years & Art, Entertainment \\& Recreation &                   & Somewhat agree             & Strongly agree             & Strongly disagree          & Somewhat agree             & Strongly agree            \\\\\n\t Male                      & 18-24 & Staff   & Media & 1 - 5 years & Social Media platforms          & Strongly disagree &                            &                            &                            &                            &                           \\\\\n\t Female                    & 18-24 & Student & Media & 1 - 5 years & Art, Entertainment \\& Recreation &                   & Somewhat disagree          & Somewhat agree             & Strongly disagree          & Neither agree nor disagree & Strongly disagree         \\\\\n\t Female                    & 18-24 & Student & Media & < 1 year    & Social Media platforms          &                   & Neither agree nor disagree & Somewhat agree             & Neither agree nor disagree & Somewhat disagree          & Somewhat agree            \\\\\n\t Female                    & 18-24 & Student & Media & 1 - 5 years & Social Media platforms          &                   & Somewhat agree             & Somewhat disagree          & Strongly disagree          & Somewhat agree             & Neither agree nor disagree\\\\\n\t Female                    & 18-24 & Student & Media & < 1 year    & Art, Entertainment \\& Recreation &                   & Neither agree nor disagree & Somewhat agree             & Neither agree nor disagree & Somewhat agree             & Somewhat disagree         \\\\\n\t Male                      & 18-24 & Student & Media & < 1 year    & Social Media platforms          &                   & Neither agree nor disagree & Strongly agree             & Somewhat disagree          & Strongly agree             & Somewhat agree            \\\\\n\t Male                      & 18-24 & Student & Media & 1 - 5 years & Social Media platforms          &                   & Somewhat agree             & Somewhat agree             & Strongly disagree          & Strongly agree             & Strongly disagree         \\\\\n\t Female                    & 18-24 & Student & Media & 1 - 5 years & Social Media platforms          &                   & Strongly disagree          & Somewhat agree             & Strongly disagree          & Somewhat agree             & Strongly disagree         \\\\\n\t Female                    & 18-24 & Student & Media & 1 - 5 years & Social Media platforms          &                   & Somewhat disagree          & Strongly agree             & Strongly disagree          & Strongly agree             & Neither agree nor disagree\\\\\n\t Female                    & < 18  & Student & Media & 1 - 5 years & Art, Entertainment \\& Recreation &                   & Somewhat disagree          & Somewhat agree             & Somewhat disagree          & Neither agree nor disagree & Neither agree nor disagree\\\\\n\t Non-binary / third gender & 18-24 & Student & Media & 1 - 5 years & Art, Entertainment \\& Recreation &                   & Somewhat agree             & Somewhat agree             & Strongly disagree          & Strongly agree             & Somewhat disagree         \\\\\n\\end{tabular}\n",
            "text/plain": [
              "   Q4.1                      Q4.2  Q4.3    Q4.4  Q4.5       \n",
              "1  Female                    18-24 Student Media 1 - 5 years\n",
              "2  Male                      25-34 Student Media 1 - 5 years\n",
              "3  Female                    18-24 Student Media 1 - 5 years\n",
              "4  Female                    18-24 Student Media 1 - 5 years\n",
              "5  Female                    18-24 Student Media 1 - 5 years\n",
              "6  Male                      18-24 Student Media 1 - 5 years\n",
              "7  Male                      18-24 Student Media 1 - 5 years\n",
              "8  Male                      18-24 Student Media < 1 year   \n",
              "9  Female                    18-24 Student Media 1 - 5 years\n",
              "10 Male                      18-24 Student Media 1 - 5 years\n",
              "11 Male                      18-24 Student Media 1 - 5 years\n",
              "12 Male                      < 18  Student Media < 1 year   \n",
              "13 Male                      18-24 Student Media < 1 year   \n",
              "14 Female                    < 18  Student Media < 1 year   \n",
              "15 Female                    18-24 Student Media < 1 year   \n",
              "16 Male                      18-24 Student Media < 1 year   \n",
              "17 Female                    18-24 Student Media < 1 year   \n",
              "18 Female                    18-24 Student Media 1 - 5 years\n",
              "19 Female                    18-24 Student Media < 1 year   \n",
              "20 Female                    18-24 Student Media < 1 year   \n",
              "21 Male                      18-24 Student Media < 1 year   \n",
              "22 Female                    < 18  Student Media < 1 year   \n",
              "23 Female                    18-24 Student Media < 1 year   \n",
              "24 Male                      18-24 Student Media 1 - 5 years\n",
              "25 Female                    18-24 Student Media < 1 year   \n",
              "26 Female                    18-24 Student Media 1 - 5 years\n",
              "27 Female                    18-24 Student Media 1 - 5 years\n",
              "28 Female                    18-24 Student Media 1 - 5 years\n",
              "29 Male                      18-24 Staff   Media 1 - 5 years\n",
              "30 Female                    18-24 Student Media 1 - 5 years\n",
              "31 Female                    18-24 Student Media < 1 year   \n",
              "32 Female                    18-24 Student Media 1 - 5 years\n",
              "33 Female                    18-24 Student Media < 1 year   \n",
              "34 Male                      18-24 Student Media < 1 year   \n",
              "35 Male                      18-24 Student Media 1 - 5 years\n",
              "36 Female                    18-24 Student Media 1 - 5 years\n",
              "37 Female                    18-24 Student Media 1 - 5 years\n",
              "38 Female                    < 18  Student Media 1 - 5 years\n",
              "39 Non-binary / third gender 18-24 Student Media 1 - 5 years\n",
              "   Q7.2                            Q7.3              Q13.1                     \n",
              "1  Social Media platforms                            Strongly disagree         \n",
              "2  Marketing                                         Somewhat agree            \n",
              "3  Social Media platforms                            Somewhat disagree         \n",
              "4  Social Media platforms                            Neither agree nor disagree\n",
              "5  Social Media platforms                            Somewhat disagree         \n",
              "6  Marketing                                         Somewhat agree            \n",
              "7  Marketing                                         Neither agree nor disagree\n",
              "8  Social Media platforms                            Somewhat disagree         \n",
              "9  Social Media platforms                            Strongly disagree         \n",
              "10 Marketing                                         Neither agree nor disagree\n",
              "11 Art, Entertainment & Recreation                   Somewhat disagree         \n",
              "12 Marketing                                         Neither agree nor disagree\n",
              "13 Social Media platforms                            Somewhat agree            \n",
              "14 Marketing                                         Somewhat disagree         \n",
              "15 Social Media platforms                            Somewhat disagree         \n",
              "16 Marketing                                         Neither agree nor disagree\n",
              "17 Marketing                                         Strongly disagree         \n",
              "18 Art, Entertainment & Recreation                   Somewhat disagree         \n",
              "19 Social Media platforms                            Strongly disagree         \n",
              "20 Marketing                                         Somewhat disagree         \n",
              "21 Social Media platforms                            Strongly disagree         \n",
              "22 Social Media platforms                            Somewhat disagree         \n",
              "23 Social Media platforms                            Strongly disagree         \n",
              "24 Art, Entertainment & Recreation                   Neither agree nor disagree\n",
              "25 Art, Entertainment & Recreation                   Strongly disagree         \n",
              "26 Marketing                                         Strongly disagree         \n",
              "27 Marketing                                         Somewhat disagree         \n",
              "28 Art, Entertainment & Recreation                   Somewhat agree            \n",
              "29 Social Media platforms          Strongly disagree                           \n",
              "30 Art, Entertainment & Recreation                   Somewhat disagree         \n",
              "31 Social Media platforms                            Neither agree nor disagree\n",
              "32 Social Media platforms                            Somewhat agree            \n",
              "33 Art, Entertainment & Recreation                   Neither agree nor disagree\n",
              "34 Social Media platforms                            Neither agree nor disagree\n",
              "35 Social Media platforms                            Somewhat agree            \n",
              "36 Social Media platforms                            Strongly disagree         \n",
              "37 Social Media platforms                            Somewhat disagree         \n",
              "38 Art, Entertainment & Recreation                   Somewhat disagree         \n",
              "39 Art, Entertainment & Recreation                   Somewhat agree            \n",
              "   Q13.2                      Q13.3                     \n",
              "1  Somewhat agree             Strongly disagree         \n",
              "2  Strongly agree             Somewhat disagree         \n",
              "3  Strongly agree             Strongly disagree         \n",
              "4  Neither agree nor disagree Strongly agree            \n",
              "5  Somewhat agree             Strongly disagree         \n",
              "6  Somewhat agree             Somewhat disagree         \n",
              "7  Somewhat disagree          Somewhat agree            \n",
              "8  Strongly agree             Strongly disagree         \n",
              "9  Somewhat agree             Neither agree nor disagree\n",
              "10 Somewhat agree             Strongly agree            \n",
              "11 Somewhat agree             Neither agree nor disagree\n",
              "12 Somewhat agree             Strongly disagree         \n",
              "13 Strongly agree             Strongly disagree         \n",
              "14 Neither agree nor disagree Somewhat disagree         \n",
              "15 Neither agree nor disagree Strongly disagree         \n",
              "16 Somewhat agree             Strongly disagree         \n",
              "17 Neither agree nor disagree Strongly agree            \n",
              "18 Somewhat agree             Somewhat disagree         \n",
              "19 Neither agree nor disagree Strongly disagree         \n",
              "20 Neither agree nor disagree Strongly disagree         \n",
              "21 Neither agree nor disagree Strongly disagree         \n",
              "22 Strongly agree             Somewhat disagree         \n",
              "23 Somewhat agree             Strongly disagree         \n",
              "24 Somewhat disagree          Somewhat disagree         \n",
              "25 Somewhat agree             Strongly disagree         \n",
              "26 Somewhat agree             Strongly disagree         \n",
              "27 Neither agree nor disagree Strongly disagree         \n",
              "28 Strongly agree             Strongly disagree         \n",
              "29                                                      \n",
              "30 Somewhat agree             Strongly disagree         \n",
              "31 Somewhat agree             Neither agree nor disagree\n",
              "32 Somewhat disagree          Strongly disagree         \n",
              "33 Somewhat agree             Neither agree nor disagree\n",
              "34 Strongly agree             Somewhat disagree         \n",
              "35 Somewhat agree             Strongly disagree         \n",
              "36 Somewhat agree             Strongly disagree         \n",
              "37 Strongly agree             Strongly disagree         \n",
              "38 Somewhat agree             Somewhat disagree         \n",
              "39 Somewhat agree             Strongly disagree         \n",
              "   Q13.4                      Q13.5                     \n",
              "1  Somewhat agree             Strongly disagree         \n",
              "2  Strongly agree             Neither agree nor disagree\n",
              "3  Strongly agree             Strongly disagree         \n",
              "4  Somewhat disagree          Neither agree nor disagree\n",
              "5  Strongly disagree          Somewhat disagree         \n",
              "6  Strongly agree             Neither agree nor disagree\n",
              "7  Strongly agree             Somewhat agree            \n",
              "8  Somewhat agree             Strongly disagree         \n",
              "9  Somewhat agree             Strongly disagree         \n",
              "10 Strongly agree             Somewhat disagree         \n",
              "11 Somewhat agree             Somewhat disagree         \n",
              "12 Neither agree nor disagree Strongly disagree         \n",
              "13 Strongly agree             Strongly agree            \n",
              "14 Somewhat agree             Somewhat agree            \n",
              "15 Strongly agree             Neither agree nor disagree\n",
              "16 Strongly agree             Strongly disagree         \n",
              "17 Somewhat agree             Neither agree nor disagree\n",
              "18 Neither agree nor disagree Neither agree nor disagree\n",
              "19 Somewhat agree             Somewhat disagree         \n",
              "20 Somewhat disagree          Somewhat disagree         \n",
              "21 Somewhat agree             Neither agree nor disagree\n",
              "22 Strongly agree             Somewhat disagree         \n",
              "23 Strongly agree             Strongly disagree         \n",
              "24 Somewhat agree             Somewhat agree            \n",
              "25 Somewhat agree             Strongly disagree         \n",
              "26 Strongly agree             Somewhat agree            \n",
              "27 Neither agree nor disagree Somewhat disagree         \n",
              "28 Somewhat agree             Strongly agree            \n",
              "29                                                      \n",
              "30 Neither agree nor disagree Strongly disagree         \n",
              "31 Somewhat disagree          Somewhat agree            \n",
              "32 Somewhat agree             Neither agree nor disagree\n",
              "33 Somewhat agree             Somewhat disagree         \n",
              "34 Strongly agree             Somewhat agree            \n",
              "35 Strongly agree             Strongly disagree         \n",
              "36 Somewhat agree             Strongly disagree         \n",
              "37 Strongly agree             Neither agree nor disagree\n",
              "38 Neither agree nor disagree Neither agree nor disagree\n",
              "39 Strongly agree             Somewhat disagree         "
            ]
          },
          "metadata": {}
        }
      ]
    },
    {
      "cell_type": "code",
      "source": [],
      "metadata": {
        "id": "3FZkoXXu237D"
      },
      "execution_count": 208,
      "outputs": []
    },
    {
      "cell_type": "markdown",
      "source": [
        "## visualisation and Insights"
      ],
      "metadata": {
        "id": "XPqLbFSW87-Z"
      }
    },
    {
      "cell_type": "markdown",
      "source": [
        "__________________________________________________________________"
      ],
      "metadata": {
        "id": "DBVtFg-fBNKt"
      }
    },
    {
      "cell_type": "markdown",
      "source": [
        "##Question number 7.2 = \"Where do you think AI will impact media businesses the most?\n",
        "\n",
        "New insight: \n",
        "Finance & Insurance got 0 selections!\n",
        "Why is this the case? is it because students are not aware of the use of Ai in Finance & Insurance...? "
      ],
      "metadata": {
        "id": "BsmjqDJi9XHD"
      }
    },
    {
      "cell_type": "code",
      "source": [
        "VQ7.2 <- ggplot(data = media, mapping = aes(Q7.2)) +\n",
        "geom_bar() + theme_classic()+ ggtitle(\"Where do you think AI will impact media businesses the most?\")\n",
        "\n",
        "VQ7.2\n",
        "\n",
        "#printing Count of answers\n",
        "media %>% \n",
        "  count(Q7.2)"
      ],
      "metadata": {
        "colab": {
          "base_uri": "https://localhost:8080/",
          "height": 612
        },
        "id": "Au6qTiuPX3FC",
        "outputId": "94347275-9924-4ff9-8366-61816a896bec"
      },
      "execution_count": 244,
      "outputs": [
        {
          "output_type": "display_data",
          "data": {
            "text/html": [
              "<table class=\"dataframe\">\n",
              "<caption>A data.frame: 3 × 2</caption>\n",
              "<thead>\n",
              "\t<tr><th scope=col>Q7.2</th><th scope=col>n</th></tr>\n",
              "\t<tr><th scope=col>&lt;chr&gt;</th><th scope=col>&lt;int&gt;</th></tr>\n",
              "</thead>\n",
              "<tbody>\n",
              "\t<tr><td>Art, Entertainment &amp; Recreation</td><td> 9</td></tr>\n",
              "\t<tr><td>Marketing                      </td><td>11</td></tr>\n",
              "\t<tr><td>Social Media platforms         </td><td>19</td></tr>\n",
              "</tbody>\n",
              "</table>\n"
            ],
            "text/markdown": "\nA data.frame: 3 × 2\n\n| Q7.2 &lt;chr&gt; | n &lt;int&gt; |\n|---|---|\n| Art, Entertainment &amp; Recreation |  9 |\n| Marketing                       | 11 |\n| Social Media platforms          | 19 |\n\n",
            "text/latex": "A data.frame: 3 × 2\n\\begin{tabular}{ll}\n Q7.2 & n\\\\\n <chr> & <int>\\\\\n\\hline\n\t Art, Entertainment \\& Recreation &  9\\\\\n\t Marketing                       & 11\\\\\n\t Social Media platforms          & 19\\\\\n\\end{tabular}\n",
            "text/plain": [
              "  Q7.2                            n \n",
              "1 Art, Entertainment & Recreation  9\n",
              "2 Marketing                       11\n",
              "3 Social Media platforms          19"
            ]
          },
          "metadata": {}
        },
        {
          "output_type": "display_data",
          "data": {
            "text/plain": [
              "plot without title"
            ],
            "image/png": "[encoded data removed]"
          },
          "metadata": {
            "image/png": {
              "width": 420,
              "height": 420
            }
          }
        }
      ]
    },
    {
      "cell_type": "markdown",
      "source": [
        "## Question number 7.3 = I agree for AI tools to be added in my domain's curriculum\n",
        "\n",
        "New insight:\n",
        "This question got only 1 Submited Answer"
      ],
      "metadata": {
        "id": "81bMO45O7Er2"
      }
    },
    {
      "cell_type": "code",
      "source": [
        "VQ7.3 <- ggplot(data = media, mapping = aes(Q7.3)) +\n",
        "geom_bar() + theme_classic()+ ggtitle(\"I agree for AI tools to be added in my domain's curriculum?\")\n",
        "\n",
        "VQ7.3\n",
        "\n",
        "media %>% \n",
        "  count(Q7.3)"
      ],
      "metadata": {
        "colab": {
          "base_uri": "https://localhost:8080/",
          "height": 581
        },
        "id": "Nh3wRXF06q9u",
        "outputId": "4777594a-8d0d-4ee7-9014-2eeef080bb86"
      },
      "execution_count": 243,
      "outputs": [
        {
          "output_type": "display_data",
          "data": {
            "text/html": [
              "<table class=\"dataframe\">\n",
              "<caption>A data.frame: 2 × 2</caption>\n",
              "<thead>\n",
              "\t<tr><th scope=col>Q7.3</th><th scope=col>n</th></tr>\n",
              "\t<tr><th scope=col>&lt;chr&gt;</th><th scope=col>&lt;int&gt;</th></tr>\n",
              "</thead>\n",
              "<tbody>\n",
              "\t<tr><td>                 </td><td>38</td></tr>\n",
              "\t<tr><td>Strongly disagree</td><td> 1</td></tr>\n",
              "</tbody>\n",
              "</table>\n"
            ],
            "text/markdown": "\nA data.frame: 2 × 2\n\n| Q7.3 &lt;chr&gt; | n &lt;int&gt; |\n|---|---|\n| <!----> | 38 |\n| Strongly disagree |  1 |\n\n",
            "text/latex": "A data.frame: 2 × 2\n\\begin{tabular}{ll}\n Q7.3 & n\\\\\n <chr> & <int>\\\\\n\\hline\n\t                   & 38\\\\\n\t Strongly disagree &  1\\\\\n\\end{tabular}\n",
            "text/plain": [
              "  Q7.3              n \n",
              "1                   38\n",
              "2 Strongly disagree  1"
            ]
          },
          "metadata": {}
        },
        {
          "output_type": "display_data",
          "data": {
            "text/plain": [
              "plot without title"
            ],
            "image/png": "[encoded data removed]"
          },
          "metadata": {
            "image/png": {
              "width": 420,
              "height": 420
            }
          }
        }
      ]
    },
    {
      "cell_type": "markdown",
      "source": [
        "##Question number 13.1 = \"I am familiar with Machine Learning and Deep Learning technologies\n",
        "\n",
        "New Insight:\n",
        "39 total\n",
        "agree 8\n",
        "nutral 9\n",
        "disagree 22\n",
        "\n",
        "almost 73% of the 30 votes, are not aware of those terms"
      ],
      "metadata": {
        "id": "ScBty5sTBuHk"
      }
    },
    {
      "cell_type": "code",
      "source": [
        "VQ13.1 <- ggplot(data = media, mapping = aes(Q13.1)) +\n",
        "geom_bar() + theme_classic()+ ggtitle(\"I am familiar with Machine Learning and Deep Learning technologies\")\n",
        "media %>% \n",
        "  count(Q13.1)\n",
        "VQ13.1"
      ],
      "metadata": {
        "colab": {
          "base_uri": "https://localhost:8080/",
          "height": 675
        },
        "id": "d56O4kMH3sZ0",
        "outputId": "1cf0db51-37cf-4217-c999-56cf6921ac05"
      },
      "execution_count": 251,
      "outputs": [
        {
          "output_type": "display_data",
          "data": {
            "text/html": [
              "<table class=\"dataframe\">\n",
              "<caption>A data.frame: 5 × 2</caption>\n",
              "<thead>\n",
              "\t<tr><th scope=col>Q13.1</th><th scope=col>n</th></tr>\n",
              "\t<tr><th scope=col>&lt;chr&gt;</th><th scope=col>&lt;int&gt;</th></tr>\n",
              "</thead>\n",
              "<tbody>\n",
              "\t<tr><td>                          </td><td> 1</td></tr>\n",
              "\t<tr><td>Neither agree nor disagree</td><td> 9</td></tr>\n",
              "\t<tr><td>Somewhat agree            </td><td> 7</td></tr>\n",
              "\t<tr><td>Somewhat disagree         </td><td>13</td></tr>\n",
              "\t<tr><td>Strongly disagree         </td><td> 9</td></tr>\n",
              "</tbody>\n",
              "</table>\n"
            ],
            "text/markdown": "\nA data.frame: 5 × 2\n\n| Q13.1 &lt;chr&gt; | n &lt;int&gt; |\n|---|---|\n| <!----> |  1 |\n| Neither agree nor disagree |  9 |\n| Somewhat agree             |  7 |\n| Somewhat disagree          | 13 |\n| Strongly disagree          |  9 |\n\n",
            "text/latex": "A data.frame: 5 × 2\n\\begin{tabular}{ll}\n Q13.1 & n\\\\\n <chr> & <int>\\\\\n\\hline\n\t                            &  1\\\\\n\t Neither agree nor disagree &  9\\\\\n\t Somewhat agree             &  7\\\\\n\t Somewhat disagree          & 13\\\\\n\t Strongly disagree          &  9\\\\\n\\end{tabular}\n",
            "text/plain": [
              "  Q13.1                      n \n",
              "1                             1\n",
              "2 Neither agree nor disagree  9\n",
              "3 Somewhat agree              7\n",
              "4 Somewhat disagree          13\n",
              "5 Strongly disagree           9"
            ]
          },
          "metadata": {}
        },
        {
          "output_type": "display_data",
          "data": {
            "text/plain": [
              "plot without title"
            ],
            "image/png": "[encoded data removed]"
          },
          "metadata": {
            "image/png": {
              "width": 420,
              "height": 420
            }
          }
        }
      ]
    },
    {
      "cell_type": "markdown",
      "source": [
        "##Question number 13.2 = I am aware of AI being used in my domain\n",
        "\n",
        "New insights: \n",
        "Agree = 27\n",
        "Natural = 8 \n",
        "Disagree = 4\n",
        "\n",
        "87% of the 31 votes are aware of the use of ai in media domain\n"
      ],
      "metadata": {
        "id": "Zh-3aqCxFWEh"
      }
    },
    {
      "cell_type": "code",
      "source": [
        "VQ13.2 <- ggplot(data = media, mapping = aes(Q13.2)) +\n",
        "geom_bar() + theme_classic()+ ggtitle(\"I am aware of AI being used in my domain\")\n",
        "media %>% \n",
        "  count(Q13.2)\n",
        "VQ13.2"
      ],
      "metadata": {
        "colab": {
          "base_uri": "https://localhost:8080/",
          "height": 675
        },
        "id": "mZcHuZhZFcDQ",
        "outputId": "bc16f98a-901d-4614-a125-9d8d5fee8141"
      },
      "execution_count": 252,
      "outputs": [
        {
          "output_type": "display_data",
          "data": {
            "text/html": [
              "<table class=\"dataframe\">\n",
              "<caption>A data.frame: 5 × 2</caption>\n",
              "<thead>\n",
              "\t<tr><th scope=col>Q13.2</th><th scope=col>n</th></tr>\n",
              "\t<tr><th scope=col>&lt;chr&gt;</th><th scope=col>&lt;int&gt;</th></tr>\n",
              "</thead>\n",
              "<tbody>\n",
              "\t<tr><td>                          </td><td> 1</td></tr>\n",
              "\t<tr><td>Neither agree nor disagree</td><td> 8</td></tr>\n",
              "\t<tr><td>Somewhat agree            </td><td>19</td></tr>\n",
              "\t<tr><td>Somewhat disagree         </td><td> 3</td></tr>\n",
              "\t<tr><td>Strongly agree            </td><td> 8</td></tr>\n",
              "</tbody>\n",
              "</table>\n"
            ],
            "text/markdown": "\nA data.frame: 5 × 2\n\n| Q13.2 &lt;chr&gt; | n &lt;int&gt; |\n|---|---|\n| <!----> |  1 |\n| Neither agree nor disagree |  8 |\n| Somewhat agree             | 19 |\n| Somewhat disagree          |  3 |\n| Strongly agree             |  8 |\n\n",
            "text/latex": "A data.frame: 5 × 2\n\\begin{tabular}{ll}\n Q13.2 & n\\\\\n <chr> & <int>\\\\\n\\hline\n\t                            &  1\\\\\n\t Neither agree nor disagree &  8\\\\\n\t Somewhat agree             & 19\\\\\n\t Somewhat disagree          &  3\\\\\n\t Strongly agree             &  8\\\\\n\\end{tabular}\n",
            "text/plain": [
              "  Q13.2                      n \n",
              "1                             1\n",
              "2 Neither agree nor disagree  8\n",
              "3 Somewhat agree             19\n",
              "4 Somewhat disagree           3\n",
              "5 Strongly agree              8"
            ]
          },
          "metadata": {}
        },
        {
          "output_type": "display_data",
          "data": {
            "text/plain": [
              "plot without title"
            ],
            "image/png": "[encoded data removed]"
          },
          "metadata": {
            "image/png": {
              "width": 420,
              "height": 420
            }
          }
        }
      ]
    },
    {
      "cell_type": "markdown",
      "source": [
        "##Question number 13.3 = I have taken courses related to AI in my programme\n",
        "\n",
        "New insights: \n",
        "\n"
      ],
      "metadata": {
        "id": "VP32j87gGk5g"
      }
    },
    {
      "cell_type": "code",
      "source": [
        "VQ13.3 <- ggplot(data = media, mapping = aes(Q13.3)) +\n",
        "geom_bar() + theme_classic()+ ggtitle(\"I have taken courses related to AI in my programme\")\n",
        "media %>% \n",
        "  count(Q13.3)\n",
        "VQ13.3"
      ],
      "metadata": {
        "colab": {
          "base_uri": "https://localhost:8080/",
          "height": 706
        },
        "id": "FkjC4E8XGqjZ",
        "outputId": "189b132e-1012-4bc4-b585-4ef7449a777d"
      },
      "execution_count": 253,
      "outputs": [
        {
          "output_type": "display_data",
          "data": {
            "text/html": [
              "<table class=\"dataframe\">\n",
              "<caption>A data.frame: 6 × 2</caption>\n",
              "<thead>\n",
              "\t<tr><th scope=col>Q13.3</th><th scope=col>n</th></tr>\n",
              "\t<tr><th scope=col>&lt;chr&gt;</th><th scope=col>&lt;int&gt;</th></tr>\n",
              "</thead>\n",
              "<tbody>\n",
              "\t<tr><td>                          </td><td> 1</td></tr>\n",
              "\t<tr><td>Neither agree nor disagree</td><td> 4</td></tr>\n",
              "\t<tr><td>Somewhat agree            </td><td> 1</td></tr>\n",
              "\t<tr><td>Somewhat disagree         </td><td> 8</td></tr>\n",
              "\t<tr><td>Strongly agree            </td><td> 3</td></tr>\n",
              "\t<tr><td>Strongly disagree         </td><td>22</td></tr>\n",
              "</tbody>\n",
              "</table>\n"
            ],
            "text/markdown": "\nA data.frame: 6 × 2\n\n| Q13.3 &lt;chr&gt; | n &lt;int&gt; |\n|---|---|\n| <!----> |  1 |\n| Neither agree nor disagree |  4 |\n| Somewhat agree             |  1 |\n| Somewhat disagree          |  8 |\n| Strongly agree             |  3 |\n| Strongly disagree          | 22 |\n\n",
            "text/latex": "A data.frame: 6 × 2\n\\begin{tabular}{ll}\n Q13.3 & n\\\\\n <chr> & <int>\\\\\n\\hline\n\t                            &  1\\\\\n\t Neither agree nor disagree &  4\\\\\n\t Somewhat agree             &  1\\\\\n\t Somewhat disagree          &  8\\\\\n\t Strongly agree             &  3\\\\\n\t Strongly disagree          & 22\\\\\n\\end{tabular}\n",
            "text/plain": [
              "  Q13.3                      n \n",
              "1                             1\n",
              "2 Neither agree nor disagree  4\n",
              "3 Somewhat agree              1\n",
              "4 Somewhat disagree           8\n",
              "5 Strongly agree              3\n",
              "6 Strongly disagree          22"
            ]
          },
          "metadata": {}
        },
        {
          "output_type": "display_data",
          "data": {
            "text/plain": [
              "plot without title"
            ],
            "image/png": "[encoded data removed]"
          },
          "metadata": {
            "image/png": {
              "width": 420,
              "height": 420
            }
          }
        }
      ]
    },
    {
      "cell_type": "markdown",
      "source": [
        "##Question number 13.4 = Are you aware that many everyday devices and applications already use AI?\n",
        "\n",
        "New insights: \n",
        "\n"
      ],
      "metadata": {
        "id": "b8OdtXL3ICsP"
      }
    },
    {
      "cell_type": "code",
      "source": [
        "VQ13.4 <- ggplot(data = media, mapping = aes(Q13.4)) +\n",
        "geom_bar() + theme_classic()+ ggtitle(\" Are you aware that many everyday devices and applications already use AI?\")\n",
        "media %>% \n",
        "  count(Q13.4)\n",
        "VQ13.4"
      ],
      "metadata": {
        "colab": {
          "base_uri": "https://localhost:8080/",
          "height": 706
        },
        "id": "ytgswlovIA4b",
        "outputId": "21fa768d-6264-4d68-c944-fd3023a385de"
      },
      "execution_count": 254,
      "outputs": [
        {
          "output_type": "display_data",
          "data": {
            "text/html": [
              "<table class=\"dataframe\">\n",
              "<caption>A data.frame: 6 × 2</caption>\n",
              "<thead>\n",
              "\t<tr><th scope=col>Q13.4</th><th scope=col>n</th></tr>\n",
              "\t<tr><th scope=col>&lt;chr&gt;</th><th scope=col>&lt;int&gt;</th></tr>\n",
              "</thead>\n",
              "<tbody>\n",
              "\t<tr><td>                          </td><td> 1</td></tr>\n",
              "\t<tr><td>Neither agree nor disagree</td><td> 5</td></tr>\n",
              "\t<tr><td>Somewhat agree            </td><td>14</td></tr>\n",
              "\t<tr><td>Somewhat disagree         </td><td> 3</td></tr>\n",
              "\t<tr><td>Strongly agree            </td><td>15</td></tr>\n",
              "\t<tr><td>Strongly disagree         </td><td> 1</td></tr>\n",
              "</tbody>\n",
              "</table>\n"
            ],
            "text/markdown": "\nA data.frame: 6 × 2\n\n| Q13.4 &lt;chr&gt; | n &lt;int&gt; |\n|---|---|\n| <!----> |  1 |\n| Neither agree nor disagree |  5 |\n| Somewhat agree             | 14 |\n| Somewhat disagree          |  3 |\n| Strongly agree             | 15 |\n| Strongly disagree          |  1 |\n\n",
            "text/latex": "A data.frame: 6 × 2\n\\begin{tabular}{ll}\n Q13.4 & n\\\\\n <chr> & <int>\\\\\n\\hline\n\t                            &  1\\\\\n\t Neither agree nor disagree &  5\\\\\n\t Somewhat agree             & 14\\\\\n\t Somewhat disagree          &  3\\\\\n\t Strongly agree             & 15\\\\\n\t Strongly disagree          &  1\\\\\n\\end{tabular}\n",
            "text/plain": [
              "  Q13.4                      n \n",
              "1                             1\n",
              "2 Neither agree nor disagree  5\n",
              "3 Somewhat agree             14\n",
              "4 Somewhat disagree           3\n",
              "5 Strongly agree             15\n",
              "6 Strongly disagree           1"
            ]
          },
          "metadata": {}
        },
        {
          "output_type": "display_data",
          "data": {
            "text/plain": [
              "plot without title"
            ],
            "image/png": "[encoded data removed]"
          },
          "metadata": {
            "image/png": {
              "width": 420,
              "height": 420
            }
          }
        }
      ]
    },
    {
      "cell_type": "markdown",
      "source": [
        "##Question number 13.5 = I have used AI in my domain before\n",
        "\n",
        "New insights: \n",
        "\n"
      ],
      "metadata": {
        "id": "jTR9AFTzIUa_"
      }
    },
    {
      "cell_type": "code",
      "source": [
        "VQ13.5 <- ggplot(data = media, mapping = aes(Q13.5)) +\n",
        "geom_bar() + theme_classic()+ ggtitle(\" I have used AI in my domain before\")\n",
        "media %>% \n",
        "  count(Q13.5)\n",
        "VQ13.5"
      ],
      "metadata": {
        "colab": {
          "base_uri": "https://localhost:8080/",
          "height": 706
        },
        "id": "o0PNl60EIfnN",
        "outputId": "242ddb9f-1cbd-4de0-c4eb-677ff12ab12f"
      },
      "execution_count": 256,
      "outputs": [
        {
          "output_type": "display_data",
          "data": {
            "text/html": [
              "<table class=\"dataframe\">\n",
              "<caption>A data.frame: 6 × 2</caption>\n",
              "<thead>\n",
              "\t<tr><th scope=col>Q13.5</th><th scope=col>n</th></tr>\n",
              "\t<tr><th scope=col>&lt;chr&gt;</th><th scope=col>&lt;int&gt;</th></tr>\n",
              "</thead>\n",
              "<tbody>\n",
              "\t<tr><td>                          </td><td> 1</td></tr>\n",
              "\t<tr><td>Neither agree nor disagree</td><td>10</td></tr>\n",
              "\t<tr><td>Somewhat agree            </td><td> 6</td></tr>\n",
              "\t<tr><td>Somewhat disagree         </td><td> 9</td></tr>\n",
              "\t<tr><td>Strongly agree            </td><td> 2</td></tr>\n",
              "\t<tr><td>Strongly disagree         </td><td>11</td></tr>\n",
              "</tbody>\n",
              "</table>\n"
            ],
            "text/markdown": "\nA data.frame: 6 × 2\n\n| Q13.5 &lt;chr&gt; | n &lt;int&gt; |\n|---|---|\n| <!----> |  1 |\n| Neither agree nor disagree | 10 |\n| Somewhat agree             |  6 |\n| Somewhat disagree          |  9 |\n| Strongly agree             |  2 |\n| Strongly disagree          | 11 |\n\n",
            "text/latex": "A data.frame: 6 × 2\n\\begin{tabular}{ll}\n Q13.5 & n\\\\\n <chr> & <int>\\\\\n\\hline\n\t                            &  1\\\\\n\t Neither agree nor disagree & 10\\\\\n\t Somewhat agree             &  6\\\\\n\t Somewhat disagree          &  9\\\\\n\t Strongly agree             &  2\\\\\n\t Strongly disagree          & 11\\\\\n\\end{tabular}\n",
            "text/plain": [
              "  Q13.5                      n \n",
              "1                             1\n",
              "2 Neither agree nor disagree 10\n",
              "3 Somewhat agree              6\n",
              "4 Somewhat disagree           9\n",
              "5 Strongly agree              2\n",
              "6 Strongly disagree          11"
            ]
          },
          "metadata": {}
        },
        {
          "output_type": "display_data",
          "data": {
            "text/plain": [
              "plot without title"
            ],
            "image/png": "[encoded data removed]"
          },
          "metadata": {
            "image/png": {
              "width": 420,
              "height": 420
            }
          }
        }
      ]
    },
    {
      "cell_type": "code",
      "source": [],
      "metadata": {
        "id": "IHI_5N6DInfU"
      },
      "execution_count": null,
      "outputs": []
    }
  ]
}